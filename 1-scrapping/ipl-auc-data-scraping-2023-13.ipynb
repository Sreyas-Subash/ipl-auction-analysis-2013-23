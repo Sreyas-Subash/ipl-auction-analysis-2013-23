{
 "cells": [
  {
   "cell_type": "code",
   "execution_count": 1,
   "id": "a8785722",
   "metadata": {
    "_cell_guid": "85eec549-2397-4de5-83ef-5b76ca91813f",
    "_uuid": "eea26f02-c3a1-4df9-8634-ca116f2b365d",
    "collapsed": false,
    "execution": {
     "iopub.execute_input": "2023-06-28T14:05:31.170842Z",
     "iopub.status.busy": "2023-06-28T14:05:31.170421Z",
     "iopub.status.idle": "2023-06-28T14:05:31.333865Z",
     "shell.execute_reply": "2023-06-28T14:05:31.332916Z"
    },
    "jupyter": {
     "outputs_hidden": false
    },
    "papermill": {
     "duration": 0.178119,
     "end_time": "2023-06-28T14:05:31.336101",
     "exception": false,
     "start_time": "2023-06-28T14:05:31.157982",
     "status": "completed"
    },
    "tags": []
   },
   "outputs": [],
   "source": [
    "import numpy as np\n",
    "import requests\n",
    "from bs4 import BeautifulSoup\n",
    "import pandas as pd"
   ]
  },
  {
   "cell_type": "markdown",
   "id": "924a82ca",
   "metadata": {
    "papermill": {
     "duration": 0.00964,
     "end_time": "2023-06-28T14:05:31.355719",
     "exception": false,
     "start_time": "2023-06-28T14:05:31.346079",
     "status": "completed"
    },
    "tags": []
   },
   "source": [
    "**Getting the soup**"
   ]
  },
  {
   "cell_type": "code",
   "execution_count": 2,
   "id": "4c887ac6",
   "metadata": {
    "_cell_guid": "ad37cb24-1196-4e66-a26b-efe998545c3c",
    "_uuid": "20a09bf6-56e9-43d4-acec-5298ce31520c",
    "collapsed": false,
    "execution": {
     "iopub.execute_input": "2023-06-28T14:05:31.376761Z",
     "iopub.status.busy": "2023-06-28T14:05:31.376099Z",
     "iopub.status.idle": "2023-06-28T14:05:31.706717Z",
     "shell.execute_reply": "2023-06-28T14:05:31.706035Z"
    },
    "jupyter": {
     "outputs_hidden": false
    },
    "papermill": {
     "duration": 0.343609,
     "end_time": "2023-06-28T14:05:31.708955",
     "exception": false,
     "start_time": "2023-06-28T14:05:31.365346",
     "status": "completed"
    },
    "tags": []
   },
   "outputs": [],
   "source": [
    "html_text = requests.get('https://www.iplt20.com/auction').text\n",
    "# print(html_text)\n",
    "soup = BeautifulSoup(html_text, 'lxml')"
   ]
  },
  {
   "cell_type": "markdown",
   "id": "cf7a5402",
   "metadata": {
    "papermill": {
     "duration": 0.009368,
     "end_time": "2023-06-28T14:05:31.729825",
     "exception": false,
     "start_time": "2023-06-28T14:05:31.720457",
     "status": "completed"
    },
    "tags": []
   },
   "source": [
    "**Getting the urls for every year and making it into a dict**"
   ]
  },
  {
   "cell_type": "code",
   "execution_count": 3,
   "id": "22b7277a",
   "metadata": {
    "_cell_guid": "a54551eb-e2f4-48a2-ab5e-b2b213dc9523",
    "_uuid": "0582aabf-20e5-4248-af0f-1f330026c6f4",
    "collapsed": false,
    "execution": {
     "iopub.execute_input": "2023-06-28T14:05:31.750669Z",
     "iopub.status.busy": "2023-06-28T14:05:31.750341Z",
     "iopub.status.idle": "2023-06-28T14:05:31.757005Z",
     "shell.execute_reply": "2023-06-28T14:05:31.755610Z"
    },
    "jupyter": {
     "outputs_hidden": false
    },
    "papermill": {
     "duration": 0.019149,
     "end_time": "2023-06-28T14:05:31.758538",
     "exception": false,
     "start_time": "2023-06-28T14:05:31.739389",
     "status": "completed"
    },
    "tags": []
   },
   "outputs": [
    {
     "name": "stdout",
     "output_type": "stream",
     "text": [
      "[<li class=\"active\"><a class=\"active show\" href=\"https://www.iplt20.com/auction/2023\">2023</a></li>, <li class=\"\"><a class=\"\" href=\"https://www.iplt20.com/auction/2022\">2022</a></li>, <li class=\"\"><a class=\"\" href=\"https://www.iplt20.com/auction/2021\">2021</a></li>, <li class=\"\"><a class=\"\" href=\"https://www.iplt20.com/auction/2020\">2020</a></li>, <li class=\"\"><a class=\"\" href=\"https://www.iplt20.com/auction/2019\">2019</a></li>, <li class=\"\"><a class=\"\" href=\"https://www.iplt20.com/auction/2018\">2018</a></li>, <li class=\"\"><a class=\"\" href=\"https://www.iplt20.com/auction/2017\">2017</a></li>, <li class=\"\"><a class=\"\" href=\"https://www.iplt20.com/auction/2016\">2016</a></li>, <li class=\"\"><a class=\"\" href=\"https://www.iplt20.com/auction/2015\">2015</a></li>, <li class=\"\"><a class=\"\" href=\"https://www.iplt20.com/auction/2014\">2014</a></li>, <li class=\"\"><a class=\"\" href=\"https://www.iplt20.com/auction/2013\">2013</a></li>]\n"
     ]
    }
   ],
   "source": [
    "years = soup.find('ul' ,class_ =\"year-auction nav\").find_all('li')\n",
    "print(years)\n",
    "# years_list = years.findall('li')\n",
    "# print(years_list)"
   ]
  },
  {
   "cell_type": "code",
   "execution_count": 4,
   "id": "ae5fb229",
   "metadata": {
    "_cell_guid": "a5f313c4-50e2-4b7e-b184-a05d2605a963",
    "_uuid": "05f576c1-90a1-45e2-bb82-1ae655337b8f",
    "collapsed": false,
    "execution": {
     "iopub.execute_input": "2023-06-28T14:05:31.780053Z",
     "iopub.status.busy": "2023-06-28T14:05:31.779163Z",
     "iopub.status.idle": "2023-06-28T14:05:31.784397Z",
     "shell.execute_reply": "2023-06-28T14:05:31.783754Z"
    },
    "jupyter": {
     "outputs_hidden": false
    },
    "papermill": {
     "duration": 0.01777,
     "end_time": "2023-06-28T14:05:31.785934",
     "exception": false,
     "start_time": "2023-06-28T14:05:31.768164",
     "status": "completed"
    },
    "tags": []
   },
   "outputs": [
    {
     "name": "stdout",
     "output_type": "stream",
     "text": [
      "{'2023': 'https://www.iplt20.com/auction/2023', '2022': 'https://www.iplt20.com/auction/2022', '2021': 'https://www.iplt20.com/auction/2021', '2020': 'https://www.iplt20.com/auction/2020', '2019': 'https://www.iplt20.com/auction/2019', '2018': 'https://www.iplt20.com/auction/2018', '2017': 'https://www.iplt20.com/auction/2017', '2016': 'https://www.iplt20.com/auction/2016', '2015': 'https://www.iplt20.com/auction/2015', '2014': 'https://www.iplt20.com/auction/2014', '2013': 'https://www.iplt20.com/auction/2013'}\n"
     ]
    }
   ],
   "source": [
    "years_dict = {}\n",
    "for year in years:\n",
    "    years_dict[year.text] = year.a['href']\n",
    "    \n",
    "print(years_dict)"
   ]
  },
  {
   "cell_type": "markdown",
   "id": "d77ddc5f",
   "metadata": {
    "papermill": {
     "duration": 0.009248,
     "end_time": "2023-06-28T14:05:31.804789",
     "exception": false,
     "start_time": "2023-06-28T14:05:31.795541",
     "status": "completed"
    },
    "tags": []
   },
   "source": [
    "**Creating soup for player and team tables for all years. Making dicts for both respectively and building dataframe out of it.**"
   ]
  },
  {
   "cell_type": "code",
   "execution_count": 5,
   "id": "238a80f8",
   "metadata": {
    "execution": {
     "iopub.execute_input": "2023-06-28T14:05:31.825530Z",
     "iopub.status.busy": "2023-06-28T14:05:31.825176Z",
     "iopub.status.idle": "2023-06-28T14:05:34.884101Z",
     "shell.execute_reply": "2023-06-28T14:05:34.883423Z"
    },
    "papermill": {
     "duration": 3.071802,
     "end_time": "2023-06-28T14:05:34.886181",
     "exception": false,
     "start_time": "2023-06-28T14:05:31.814379",
     "status": "completed"
    },
    "tags": []
   },
   "outputs": [],
   "source": [
    "# original\n",
    "\n",
    "num_team = 0\n",
    "team_dict = {}\n",
    "num_player = 0\n",
    "player_dict = {}\n",
    "\n",
    "for i in years_dict:\n",
    "    season_url = years_dict[i]\n",
    "    season = i\n",
    "    \n",
    "    season_html = requests.get(season_url).text\n",
    "    season_soup = BeautifulSoup(season_html, 'lxml')\n",
    "    \n",
    "    team_overviews = season_soup.find('div', class_=\"ih-pt-tab-bg\")\n",
    "    team_overview = team_overviews.find_all('tr')\n",
    "\n",
    "    \n",
    "    for team_ov in team_overview[1:]:\n",
    "        details = team_ov.find_all('td')\n",
    "        \n",
    "        team_name = details[0].text.strip()\n",
    "        remaining_fund = details[1].text.strip()\n",
    "        num_overseas_player = details[2].text.strip()\n",
    "        total_players = details[3].text.strip()\n",
    "        \n",
    "        num_team = num_team + 1\n",
    "        team_dict[num_team] =[season,team_name,remaining_fund,num_overseas_player,total_players]\n",
    "        \n",
    "    \n",
    "    \n",
    "   \n",
    "    p = season_soup.find('section', class_ =\"ih-points-table-sec\").parent\n",
    "    players = p.find_all('div', class_ =\"ih-points-table-sec\")\n",
    "\n",
    "    for player in players:\n",
    "        \n",
    "        team_namee = player.h2.text.strip()\n",
    "\n",
    "        player_details = player.find_all('tr')\n",
    "        \n",
    "        for player_detail in player_details[1:]:\n",
    "            pl_detail = player_detail.text\n",
    "            if season in ['2023','2022']:\n",
    "                player_name = pl_detail.split('\\n')[1].strip()\n",
    "                nationality = pl_detail.split('\\n')[2].strip()\n",
    "                type = pl_detail.split('\\n')[3].strip()\n",
    "                price_paid = pl_detail.split('\\n')[4].strip()\n",
    "            else :\n",
    "                player_name = pl_detail.split('\\n')[1].strip()\n",
    "                type = pl_detail.split('\\n')[2].strip()\n",
    "                price_paid = pl_detail.split('\\n')[3].strip()\n",
    "                nationality = np.nan\n",
    "            \n",
    "            num_player += 1\n",
    "            player_dict[num_player] = [season,team_namee,player_name,nationality,type,price_paid]\n",
    "        "
   ]
  },
  {
   "cell_type": "code",
   "execution_count": 6,
   "id": "d5a3c28c",
   "metadata": {
    "execution": {
     "iopub.execute_input": "2023-06-28T14:05:34.907556Z",
     "iopub.status.busy": "2023-06-28T14:05:34.907211Z",
     "iopub.status.idle": "2023-06-28T14:05:34.921857Z",
     "shell.execute_reply": "2023-06-28T14:05:34.920952Z"
    },
    "papermill": {
     "duration": 0.027672,
     "end_time": "2023-06-28T14:05:34.923860",
     "exception": false,
     "start_time": "2023-06-28T14:05:34.896188",
     "status": "completed"
    },
    "tags": []
   },
   "outputs": [],
   "source": [
    "cols_player = ['season','team_name','player_name','nationality','type','price_paid']\n",
    "player_df = pd.DataFrame.from_dict(player_dict, orient = 'index', columns = cols_player)\n",
    "\n",
    "cols_team = ['season','team_name','remaining_fund','overseas_player','total_players']\n",
    "team_df = pd.DataFrame.from_dict(team_dict, orient = 'index', columns = cols_team)"
   ]
  },
  {
   "cell_type": "markdown",
   "id": "9d37a6e8",
   "metadata": {
    "papermill": {
     "duration": 0.009291,
     "end_time": "2023-06-28T14:05:34.943267",
     "exception": false,
     "start_time": "2023-06-28T14:05:34.933976",
     "status": "completed"
    },
    "tags": []
   },
   "source": [
    "# **team_df cleaning and transformation**"
   ]
  },
  {
   "cell_type": "code",
   "execution_count": 7,
   "id": "c24b77db",
   "metadata": {
    "execution": {
     "iopub.execute_input": "2023-06-28T14:05:34.963559Z",
     "iopub.status.busy": "2023-06-28T14:05:34.963264Z",
     "iopub.status.idle": "2023-06-28T14:05:34.991910Z",
     "shell.execute_reply": "2023-06-28T14:05:34.991012Z"
    },
    "papermill": {
     "duration": 0.041069,
     "end_time": "2023-06-28T14:05:34.993822",
     "exception": false,
     "start_time": "2023-06-28T14:05:34.952753",
     "status": "completed"
    },
    "tags": []
   },
   "outputs": [
    {
     "data": {
      "text/html": [
       "<div>\n",
       "<style scoped>\n",
       "    .dataframe tbody tr th:only-of-type {\n",
       "        vertical-align: middle;\n",
       "    }\n",
       "\n",
       "    .dataframe tbody tr th {\n",
       "        vertical-align: top;\n",
       "    }\n",
       "\n",
       "    .dataframe thead th {\n",
       "        text-align: right;\n",
       "    }\n",
       "</style>\n",
       "<table border=\"1\" class=\"dataframe\">\n",
       "  <thead>\n",
       "    <tr style=\"text-align: right;\">\n",
       "      <th></th>\n",
       "      <th>season</th>\n",
       "      <th>team_name</th>\n",
       "      <th>remaining_fund</th>\n",
       "      <th>overseas_player</th>\n",
       "      <th>total_players</th>\n",
       "    </tr>\n",
       "  </thead>\n",
       "  <tbody>\n",
       "    <tr>\n",
       "      <th>1</th>\n",
       "      <td>2023</td>\n",
       "      <td>Chennai Super Kings</td>\n",
       "      <td>₹1,50,00,000</td>\n",
       "      <td>8</td>\n",
       "      <td>25</td>\n",
       "    </tr>\n",
       "    <tr>\n",
       "      <th>2</th>\n",
       "      <td>2023</td>\n",
       "      <td>Delhi Capitals</td>\n",
       "      <td>₹4,45,00,000</td>\n",
       "      <td>8</td>\n",
       "      <td>25</td>\n",
       "    </tr>\n",
       "    <tr>\n",
       "      <th>3</th>\n",
       "      <td>2023</td>\n",
       "      <td>Gujarat Titans</td>\n",
       "      <td>₹4,45,00,000</td>\n",
       "      <td>8</td>\n",
       "      <td>25</td>\n",
       "    </tr>\n",
       "    <tr>\n",
       "      <th>4</th>\n",
       "      <td>2023</td>\n",
       "      <td>Kolkata Knight Riders</td>\n",
       "      <td>₹1,65,00,000</td>\n",
       "      <td>8</td>\n",
       "      <td>22</td>\n",
       "    </tr>\n",
       "    <tr>\n",
       "      <th>5</th>\n",
       "      <td>2023</td>\n",
       "      <td>Lucknow Super Giants</td>\n",
       "      <td>₹3,55,00,000</td>\n",
       "      <td>8</td>\n",
       "      <td>25</td>\n",
       "    </tr>\n",
       "    <tr>\n",
       "      <th>...</th>\n",
       "      <td>...</td>\n",
       "      <td>...</td>\n",
       "      <td>...</td>\n",
       "      <td>...</td>\n",
       "      <td>...</td>\n",
       "    </tr>\n",
       "    <tr>\n",
       "      <th>89</th>\n",
       "      <td>2013</td>\n",
       "      <td>Mumbai Indians</td>\n",
       "      <td>$341,739</td>\n",
       "      <td>11</td>\n",
       "      <td>28</td>\n",
       "    </tr>\n",
       "    <tr>\n",
       "      <th>90</th>\n",
       "      <td>2013</td>\n",
       "      <td>Pune Warriors India</td>\n",
       "      <td>$804,130</td>\n",
       "      <td>11</td>\n",
       "      <td>33</td>\n",
       "    </tr>\n",
       "    <tr>\n",
       "      <th>91</th>\n",
       "      <td>2013</td>\n",
       "      <td>Rajasthan Royals</td>\n",
       "      <td>$7,071,304</td>\n",
       "      <td>10</td>\n",
       "      <td>21</td>\n",
       "    </tr>\n",
       "    <tr>\n",
       "      <th>92</th>\n",
       "      <td>2013</td>\n",
       "      <td>Royal Challengers Bangalore</td>\n",
       "      <td>$711,522</td>\n",
       "      <td>10</td>\n",
       "      <td>31</td>\n",
       "    </tr>\n",
       "    <tr>\n",
       "      <th>93</th>\n",
       "      <td>2013</td>\n",
       "      <td>Sunrisers Hyderabad</td>\n",
       "      <td>$5,583,696</td>\n",
       "      <td>11</td>\n",
       "      <td>26</td>\n",
       "    </tr>\n",
       "  </tbody>\n",
       "</table>\n",
       "<p>93 rows × 5 columns</p>\n",
       "</div>"
      ],
      "text/plain": [
       "   season                    team_name remaining_fund overseas_player  \\\n",
       "1    2023          Chennai Super Kings   ₹1,50,00,000               8   \n",
       "2    2023               Delhi Capitals   ₹4,45,00,000               8   \n",
       "3    2023               Gujarat Titans   ₹4,45,00,000               8   \n",
       "4    2023        Kolkata Knight Riders   ₹1,65,00,000               8   \n",
       "5    2023         Lucknow Super Giants   ₹3,55,00,000               8   \n",
       "..    ...                          ...            ...             ...   \n",
       "89   2013               Mumbai Indians       $341,739              11   \n",
       "90   2013          Pune Warriors India       $804,130              11   \n",
       "91   2013             Rajasthan Royals     $7,071,304              10   \n",
       "92   2013  Royal Challengers Bangalore       $711,522              10   \n",
       "93   2013          Sunrisers Hyderabad     $5,583,696              11   \n",
       "\n",
       "   total_players  \n",
       "1             25  \n",
       "2             25  \n",
       "3             25  \n",
       "4             22  \n",
       "5             25  \n",
       "..           ...  \n",
       "89            28  \n",
       "90            33  \n",
       "91            21  \n",
       "92            31  \n",
       "93            26  \n",
       "\n",
       "[93 rows x 5 columns]"
      ]
     },
     "execution_count": 7,
     "metadata": {},
     "output_type": "execute_result"
    }
   ],
   "source": [
    "team_df"
   ]
  },
  {
   "cell_type": "code",
   "execution_count": 8,
   "id": "b639775b",
   "metadata": {
    "execution": {
     "iopub.execute_input": "2023-06-28T14:05:35.016303Z",
     "iopub.status.busy": "2023-06-28T14:05:35.015986Z",
     "iopub.status.idle": "2023-06-28T14:05:35.036437Z",
     "shell.execute_reply": "2023-06-28T14:05:35.035399Z"
    },
    "papermill": {
     "duration": 0.034346,
     "end_time": "2023-06-28T14:05:35.038824",
     "exception": false,
     "start_time": "2023-06-28T14:05:35.004478",
     "status": "completed"
    },
    "tags": []
   },
   "outputs": [
    {
     "data": {
      "text/html": [
       "<div>\n",
       "<style scoped>\n",
       "    .dataframe tbody tr th:only-of-type {\n",
       "        vertical-align: middle;\n",
       "    }\n",
       "\n",
       "    .dataframe tbody tr th {\n",
       "        vertical-align: top;\n",
       "    }\n",
       "\n",
       "    .dataframe thead th {\n",
       "        text-align: right;\n",
       "    }\n",
       "</style>\n",
       "<table border=\"1\" class=\"dataframe\">\n",
       "  <thead>\n",
       "    <tr style=\"text-align: right;\">\n",
       "      <th></th>\n",
       "      <th>season</th>\n",
       "      <th>team_name</th>\n",
       "      <th>remaining_fund</th>\n",
       "      <th>overseas_player</th>\n",
       "      <th>total_players</th>\n",
       "    </tr>\n",
       "  </thead>\n",
       "  <tbody>\n",
       "    <tr>\n",
       "      <th>count</th>\n",
       "      <td>93</td>\n",
       "      <td>93</td>\n",
       "      <td>93</td>\n",
       "      <td>93</td>\n",
       "      <td>93</td>\n",
       "    </tr>\n",
       "    <tr>\n",
       "      <th>unique</th>\n",
       "      <td>11</td>\n",
       "      <td>15</td>\n",
       "      <td>77</td>\n",
       "      <td>5</td>\n",
       "      <td>11</td>\n",
       "    </tr>\n",
       "    <tr>\n",
       "      <th>top</th>\n",
       "      <td>2023</td>\n",
       "      <td>Kolkata Knight Riders</td>\n",
       "      <td>₹0</td>\n",
       "      <td>8</td>\n",
       "      <td>25</td>\n",
       "    </tr>\n",
       "    <tr>\n",
       "      <th>freq</th>\n",
       "      <td>10</td>\n",
       "      <td>11</td>\n",
       "      <td>4</td>\n",
       "      <td>55</td>\n",
       "      <td>35</td>\n",
       "    </tr>\n",
       "  </tbody>\n",
       "</table>\n",
       "</div>"
      ],
      "text/plain": [
       "       season              team_name remaining_fund overseas_player  \\\n",
       "count      93                     93             93              93   \n",
       "unique     11                     15             77               5   \n",
       "top      2023  Kolkata Knight Riders             ₹0               8   \n",
       "freq       10                     11              4              55   \n",
       "\n",
       "       total_players  \n",
       "count             93  \n",
       "unique            11  \n",
       "top               25  \n",
       "freq              35  "
      ]
     },
     "execution_count": 8,
     "metadata": {},
     "output_type": "execute_result"
    }
   ],
   "source": [
    "team_df.describe()"
   ]
  },
  {
   "cell_type": "code",
   "execution_count": 9,
   "id": "13bac742",
   "metadata": {
    "execution": {
     "iopub.execute_input": "2023-06-28T14:05:35.060991Z",
     "iopub.status.busy": "2023-06-28T14:05:35.060683Z",
     "iopub.status.idle": "2023-06-28T14:05:35.068965Z",
     "shell.execute_reply": "2023-06-28T14:05:35.067933Z"
    },
    "papermill": {
     "duration": 0.02167,
     "end_time": "2023-06-28T14:05:35.070993",
     "exception": false,
     "start_time": "2023-06-28T14:05:35.049323",
     "status": "completed"
    },
    "tags": []
   },
   "outputs": [
    {
     "name": "stdout",
     "output_type": "stream",
     "text": [
      "['2023' '2022' '2021' '2020' '2019' '2018' '2017' '2016' '2015' '2014'\n",
      " '2013']\n",
      "['Chennai Super Kings' 'Delhi Capitals' 'Gujarat Titans'\n",
      " 'Kolkata Knight Riders' 'Lucknow Super Giants' 'Mumbai Indians'\n",
      " 'Punjab Kings' 'Rajasthan Royals' 'Royal Challengers Bangalore'\n",
      " 'Sunrisers Hyderabad' 'Kings XI Punjab' 'Delhi Daredevils'\n",
      " 'Gujarat Lions' 'Rising Pune Supergiant' 'Pune Warriors India']\n",
      "['₹1,50,00,000' '₹4,45,00,000' '₹1,65,00,000' '₹3,55,00,000' '₹5,00,000'\n",
      " '₹12,20,00,000' '₹3,35,00,000' '₹1,75,00,000' '₹6,55,00,000'\n",
      " '₹2,95,00,000' '₹10,00,000' '₹15,00,000' '₹45,00,000' '₹0' '₹3,45,00,000'\n",
      " '₹95,00,000' '₹1,55,00,000' '₹2,55,00,000' '₹2,15,00,000' '₹3,20,00,000'\n",
      " '₹3,65,00,000' '₹18,80,00,000' '₹13,65,00,000' '₹35,00,000'\n",
      " '₹6,95,00,000' '₹9,00,00,000' '₹16,50,00,000' '₹8,50,00,000'\n",
      " '₹1,95,00,000' '₹14,75,00,000' '₹6,40,00,000' '₹10,10,00,000'\n",
      " '₹7,70,00,000' '₹3,70,00,000' '₹6,05,00,000' '₹7,15,00,000'\n",
      " '₹1,80,00,000' '₹5,30,00,000' '₹6,50,00,000' '₹1,60,00,000' '₹65,00,000'\n",
      " '₹9,05,00,000' '₹10,50,00,000' '₹13,90,00,000' '₹5,40,00,000'\n",
      " '₹3,35,50,000' '₹30,00,000' '₹2,42,50,000' '₹12,25,00,000' '6,15,00,000'\n",
      " '10,35,00,000' '12,45,00,000' '12,25,00,000' '1,30,50,000' '5,20,00,000'\n",
      " '6,17,50,000' '8,40,00,000' '₹70,00,000' '₹1,35,00,000' '₹9,20,00,000'\n",
      " '₹4,90,50,000' '₹10,65,00,000' '₹2,00,00,000' '₹9,35,00,000' '₹20,00,000'\n",
      " '₹4,10,00,000' '₹1,00,00,000' '₹5,55,00,000' '$1,846,087' '$655,978'\n",
      " '$6,072,826' '$1,508,696' '$341,739' '$804,130' '$7,071,304' '$711,522'\n",
      " '$5,583,696']\n",
      "['8' '7' '9' '11' '10']\n",
      "['25' '22' '24' '23' '21' '19' '26' '27' '28' '33' '31']\n"
     ]
    }
   ],
   "source": [
    "for cols in team_df:\n",
    "    print(team_df[cols].unique())"
   ]
  },
  {
   "cell_type": "code",
   "execution_count": 10,
   "id": "3253f425",
   "metadata": {
    "execution": {
     "iopub.execute_input": "2023-06-28T14:05:35.093131Z",
     "iopub.status.busy": "2023-06-28T14:05:35.092806Z",
     "iopub.status.idle": "2023-06-28T14:05:35.099453Z",
     "shell.execute_reply": "2023-06-28T14:05:35.098864Z"
    },
    "papermill": {
     "duration": 0.019922,
     "end_time": "2023-06-28T14:05:35.101306",
     "exception": false,
     "start_time": "2023-06-28T14:05:35.081384",
     "status": "completed"
    },
    "tags": []
   },
   "outputs": [],
   "source": [
    "team_df.loc[team_df['team_name'] == 'Kings XI Punjab','team_name'] = 'Punjab Kings'\n",
    "team_df.loc[team_df['team_name'] == 'Delhi Daredevils','team_name'] = 'Delhi Capitals'\n"
   ]
  },
  {
   "cell_type": "code",
   "execution_count": 11,
   "id": "14a79089",
   "metadata": {
    "execution": {
     "iopub.execute_input": "2023-06-28T14:05:35.123343Z",
     "iopub.status.busy": "2023-06-28T14:05:35.122584Z",
     "iopub.status.idle": "2023-06-28T14:05:35.130689Z",
     "shell.execute_reply": "2023-06-28T14:05:35.129754Z"
    },
    "papermill": {
     "duration": 0.021717,
     "end_time": "2023-06-28T14:05:35.133244",
     "exception": false,
     "start_time": "2023-06-28T14:05:35.111527",
     "status": "completed"
    },
    "tags": []
   },
   "outputs": [],
   "source": [
    "team_df.remaining_fund = team_df['remaining_fund'].apply(lambda x : str(x).replace(',',''))\n",
    "team_df.remaining_fund = team_df['remaining_fund'].apply(lambda x : str(x).replace('$',''))\n",
    "team_df.remaining_fund = team_df['remaining_fund'].apply(lambda x : str(x).replace('₹','')).astype('int')"
   ]
  },
  {
   "cell_type": "code",
   "execution_count": 12,
   "id": "3459e42f",
   "metadata": {
    "execution": {
     "iopub.execute_input": "2023-06-28T14:05:35.156567Z",
     "iopub.status.busy": "2023-06-28T14:05:35.156069Z",
     "iopub.status.idle": "2023-06-28T14:05:35.161731Z",
     "shell.execute_reply": "2023-06-28T14:05:35.160976Z"
    },
    "papermill": {
     "duration": 0.01944,
     "end_time": "2023-06-28T14:05:35.163540",
     "exception": false,
     "start_time": "2023-06-28T14:05:35.144100",
     "status": "completed"
    },
    "tags": []
   },
   "outputs": [],
   "source": [
    "# 58.5501 was roughly the exchage rate for dollar to rupee in 2013\n",
    "team_df.loc[team_df['season']=='2013','remaining_fund'] =  team_df.loc[team_df['season']=='2013','remaining_fund'] * 58.5501"
   ]
  },
  {
   "cell_type": "code",
   "execution_count": 13,
   "id": "00b413f2",
   "metadata": {
    "execution": {
     "iopub.execute_input": "2023-06-28T14:05:35.186503Z",
     "iopub.status.busy": "2023-06-28T14:05:35.185913Z",
     "iopub.status.idle": "2023-06-28T14:05:35.191300Z",
     "shell.execute_reply": "2023-06-28T14:05:35.190733Z"
    },
    "papermill": {
     "duration": 0.018245,
     "end_time": "2023-06-28T14:05:35.192768",
     "exception": false,
     "start_time": "2023-06-28T14:05:35.174523",
     "status": "completed"
    },
    "tags": []
   },
   "outputs": [],
   "source": [
    "team_df.rename(columns = {'remaining_fund':'remaining_fund(in rupee)'}, inplace = True)"
   ]
  },
  {
   "cell_type": "code",
   "execution_count": 14,
   "id": "2db4286c",
   "metadata": {
    "execution": {
     "iopub.execute_input": "2023-06-28T14:05:35.214554Z",
     "iopub.status.busy": "2023-06-28T14:05:35.214014Z",
     "iopub.status.idle": "2023-06-28T14:05:35.222021Z",
     "shell.execute_reply": "2023-06-28T14:05:35.221405Z"
    },
    "papermill": {
     "duration": 0.020679,
     "end_time": "2023-06-28T14:05:35.223537",
     "exception": false,
     "start_time": "2023-06-28T14:05:35.202858",
     "status": "completed"
    },
    "tags": []
   },
   "outputs": [],
   "source": [
    "team_df = team_df.astype({'overseas_player':int, 'total_players':int})\n"
   ]
  },
  {
   "cell_type": "code",
   "execution_count": 15,
   "id": "d0eb9e04",
   "metadata": {
    "execution": {
     "iopub.execute_input": "2023-06-28T14:05:35.245135Z",
     "iopub.status.busy": "2023-06-28T14:05:35.244631Z",
     "iopub.status.idle": "2023-06-28T14:05:35.250154Z",
     "shell.execute_reply": "2023-06-28T14:05:35.249561Z"
    },
    "papermill": {
     "duration": 0.017824,
     "end_time": "2023-06-28T14:05:35.251549",
     "exception": false,
     "start_time": "2023-06-28T14:05:35.233725",
     "status": "completed"
    },
    "tags": []
   },
   "outputs": [
    {
     "data": {
      "text/plain": [
       "season                       object\n",
       "team_name                    object\n",
       "remaining_fund(in rupee)    float64\n",
       "overseas_player               int64\n",
       "total_players                 int64\n",
       "dtype: object"
      ]
     },
     "execution_count": 15,
     "metadata": {},
     "output_type": "execute_result"
    }
   ],
   "source": [
    "team_df.dtypes"
   ]
  },
  {
   "cell_type": "code",
   "execution_count": 16,
   "id": "ad92f340",
   "metadata": {
    "execution": {
     "iopub.execute_input": "2023-06-28T14:05:35.273397Z",
     "iopub.status.busy": "2023-06-28T14:05:35.272902Z",
     "iopub.status.idle": "2023-06-28T14:05:35.280154Z",
     "shell.execute_reply": "2023-06-28T14:05:35.279306Z"
    },
    "papermill": {
     "duration": 0.019879,
     "end_time": "2023-06-28T14:05:35.281711",
     "exception": false,
     "start_time": "2023-06-28T14:05:35.261832",
     "status": "completed"
    },
    "tags": []
   },
   "outputs": [
    {
     "data": {
      "text/plain": [
       "0"
      ]
     },
     "execution_count": 16,
     "metadata": {},
     "output_type": "execute_result"
    }
   ],
   "source": [
    "team_df.duplicated().sum()"
   ]
  },
  {
   "cell_type": "code",
   "execution_count": 17,
   "id": "6a7a3335",
   "metadata": {
    "execution": {
     "iopub.execute_input": "2023-06-28T14:05:35.303333Z",
     "iopub.status.busy": "2023-06-28T14:05:35.303021Z",
     "iopub.status.idle": "2023-06-28T14:05:35.308940Z",
     "shell.execute_reply": "2023-06-28T14:05:35.307463Z"
    },
    "papermill": {
     "duration": 0.018986,
     "end_time": "2023-06-28T14:05:35.311014",
     "exception": false,
     "start_time": "2023-06-28T14:05:35.292028",
     "status": "completed"
    },
    "tags": []
   },
   "outputs": [
    {
     "name": "stdout",
     "output_type": "stream",
     "text": [
      "season : 0\n",
      "team_name : 0\n",
      "remaining_fund(in rupee) : 0\n",
      "overseas_player : 0\n",
      "total_players : 0\n"
     ]
    }
   ],
   "source": [
    "for col in team_df:\n",
    "    print(col, ':', team_df[col].isnull().sum())"
   ]
  },
  {
   "cell_type": "code",
   "execution_count": 18,
   "id": "6933e9e2",
   "metadata": {
    "execution": {
     "iopub.execute_input": "2023-06-28T14:05:35.333676Z",
     "iopub.status.busy": "2023-06-28T14:05:35.333312Z",
     "iopub.status.idle": "2023-06-28T14:05:35.338653Z",
     "shell.execute_reply": "2023-06-28T14:05:35.337453Z"
    },
    "papermill": {
     "duration": 0.018965,
     "end_time": "2023-06-28T14:05:35.340520",
     "exception": false,
     "start_time": "2023-06-28T14:05:35.321555",
     "status": "completed"
    },
    "tags": []
   },
   "outputs": [],
   "source": [
    "team_df.reset_index(inplace = True)"
   ]
  },
  {
   "cell_type": "code",
   "execution_count": 19,
   "id": "d697603c",
   "metadata": {
    "execution": {
     "iopub.execute_input": "2023-06-28T14:05:35.363178Z",
     "iopub.status.busy": "2023-06-28T14:05:35.362899Z",
     "iopub.status.idle": "2023-06-28T14:05:35.367794Z",
     "shell.execute_reply": "2023-06-28T14:05:35.366912Z"
    },
    "papermill": {
     "duration": 0.018152,
     "end_time": "2023-06-28T14:05:35.369584",
     "exception": false,
     "start_time": "2023-06-28T14:05:35.351432",
     "status": "completed"
    },
    "tags": []
   },
   "outputs": [],
   "source": [
    "team_df.rename(columns = {'index':'id'}, inplace = True)"
   ]
  },
  {
   "cell_type": "code",
   "execution_count": 20,
   "id": "13f6aea9",
   "metadata": {
    "execution": {
     "iopub.execute_input": "2023-06-28T14:05:35.392546Z",
     "iopub.status.busy": "2023-06-28T14:05:35.391688Z",
     "iopub.status.idle": "2023-06-28T14:05:35.404618Z",
     "shell.execute_reply": "2023-06-28T14:05:35.403761Z"
    },
    "papermill": {
     "duration": 0.026075,
     "end_time": "2023-06-28T14:05:35.406297",
     "exception": false,
     "start_time": "2023-06-28T14:05:35.380222",
     "status": "completed"
    },
    "tags": []
   },
   "outputs": [
    {
     "data": {
      "text/html": [
       "<div>\n",
       "<style scoped>\n",
       "    .dataframe tbody tr th:only-of-type {\n",
       "        vertical-align: middle;\n",
       "    }\n",
       "\n",
       "    .dataframe tbody tr th {\n",
       "        vertical-align: top;\n",
       "    }\n",
       "\n",
       "    .dataframe thead th {\n",
       "        text-align: right;\n",
       "    }\n",
       "</style>\n",
       "<table border=\"1\" class=\"dataframe\">\n",
       "  <thead>\n",
       "    <tr style=\"text-align: right;\">\n",
       "      <th></th>\n",
       "      <th>id</th>\n",
       "      <th>season</th>\n",
       "      <th>team_name</th>\n",
       "      <th>remaining_fund(in rupee)</th>\n",
       "      <th>overseas_player</th>\n",
       "      <th>total_players</th>\n",
       "    </tr>\n",
       "  </thead>\n",
       "  <tbody>\n",
       "    <tr>\n",
       "      <th>0</th>\n",
       "      <td>1</td>\n",
       "      <td>2023</td>\n",
       "      <td>Chennai Super Kings</td>\n",
       "      <td>1.500000e+07</td>\n",
       "      <td>8</td>\n",
       "      <td>25</td>\n",
       "    </tr>\n",
       "    <tr>\n",
       "      <th>1</th>\n",
       "      <td>2</td>\n",
       "      <td>2023</td>\n",
       "      <td>Delhi Capitals</td>\n",
       "      <td>4.450000e+07</td>\n",
       "      <td>8</td>\n",
       "      <td>25</td>\n",
       "    </tr>\n",
       "    <tr>\n",
       "      <th>2</th>\n",
       "      <td>3</td>\n",
       "      <td>2023</td>\n",
       "      <td>Gujarat Titans</td>\n",
       "      <td>4.450000e+07</td>\n",
       "      <td>8</td>\n",
       "      <td>25</td>\n",
       "    </tr>\n",
       "    <tr>\n",
       "      <th>3</th>\n",
       "      <td>4</td>\n",
       "      <td>2023</td>\n",
       "      <td>Kolkata Knight Riders</td>\n",
       "      <td>1.650000e+07</td>\n",
       "      <td>8</td>\n",
       "      <td>22</td>\n",
       "    </tr>\n",
       "    <tr>\n",
       "      <th>4</th>\n",
       "      <td>5</td>\n",
       "      <td>2023</td>\n",
       "      <td>Lucknow Super Giants</td>\n",
       "      <td>3.550000e+07</td>\n",
       "      <td>8</td>\n",
       "      <td>25</td>\n",
       "    </tr>\n",
       "    <tr>\n",
       "      <th>...</th>\n",
       "      <td>...</td>\n",
       "      <td>...</td>\n",
       "      <td>...</td>\n",
       "      <td>...</td>\n",
       "      <td>...</td>\n",
       "      <td>...</td>\n",
       "    </tr>\n",
       "    <tr>\n",
       "      <th>88</th>\n",
       "      <td>89</td>\n",
       "      <td>2013</td>\n",
       "      <td>Mumbai Indians</td>\n",
       "      <td>2.000885e+07</td>\n",
       "      <td>11</td>\n",
       "      <td>28</td>\n",
       "    </tr>\n",
       "    <tr>\n",
       "      <th>89</th>\n",
       "      <td>90</td>\n",
       "      <td>2013</td>\n",
       "      <td>Pune Warriors India</td>\n",
       "      <td>4.708189e+07</td>\n",
       "      <td>11</td>\n",
       "      <td>33</td>\n",
       "    </tr>\n",
       "    <tr>\n",
       "      <th>90</th>\n",
       "      <td>91</td>\n",
       "      <td>2013</td>\n",
       "      <td>Rajasthan Royals</td>\n",
       "      <td>4.140256e+08</td>\n",
       "      <td>10</td>\n",
       "      <td>21</td>\n",
       "    </tr>\n",
       "    <tr>\n",
       "      <th>91</th>\n",
       "      <td>92</td>\n",
       "      <td>2013</td>\n",
       "      <td>Royal Challengers Bangalore</td>\n",
       "      <td>4.165968e+07</td>\n",
       "      <td>10</td>\n",
       "      <td>31</td>\n",
       "    </tr>\n",
       "    <tr>\n",
       "      <th>92</th>\n",
       "      <td>93</td>\n",
       "      <td>2013</td>\n",
       "      <td>Sunrisers Hyderabad</td>\n",
       "      <td>3.269260e+08</td>\n",
       "      <td>11</td>\n",
       "      <td>26</td>\n",
       "    </tr>\n",
       "  </tbody>\n",
       "</table>\n",
       "<p>93 rows × 6 columns</p>\n",
       "</div>"
      ],
      "text/plain": [
       "    id season                    team_name  remaining_fund(in rupee)  \\\n",
       "0    1   2023          Chennai Super Kings              1.500000e+07   \n",
       "1    2   2023               Delhi Capitals              4.450000e+07   \n",
       "2    3   2023               Gujarat Titans              4.450000e+07   \n",
       "3    4   2023        Kolkata Knight Riders              1.650000e+07   \n",
       "4    5   2023         Lucknow Super Giants              3.550000e+07   \n",
       "..  ..    ...                          ...                       ...   \n",
       "88  89   2013               Mumbai Indians              2.000885e+07   \n",
       "89  90   2013          Pune Warriors India              4.708189e+07   \n",
       "90  91   2013             Rajasthan Royals              4.140256e+08   \n",
       "91  92   2013  Royal Challengers Bangalore              4.165968e+07   \n",
       "92  93   2013          Sunrisers Hyderabad              3.269260e+08   \n",
       "\n",
       "    overseas_player  total_players  \n",
       "0                 8             25  \n",
       "1                 8             25  \n",
       "2                 8             25  \n",
       "3                 8             22  \n",
       "4                 8             25  \n",
       "..              ...            ...  \n",
       "88               11             28  \n",
       "89               11             33  \n",
       "90               10             21  \n",
       "91               10             31  \n",
       "92               11             26  \n",
       "\n",
       "[93 rows x 6 columns]"
      ]
     },
     "execution_count": 20,
     "metadata": {},
     "output_type": "execute_result"
    }
   ],
   "source": [
    "team_df"
   ]
  },
  {
   "cell_type": "code",
   "execution_count": 21,
   "id": "7f42e8b6",
   "metadata": {
    "execution": {
     "iopub.execute_input": "2023-06-28T14:05:35.429457Z",
     "iopub.status.busy": "2023-06-28T14:05:35.429157Z",
     "iopub.status.idle": "2023-06-28T14:05:35.439225Z",
     "shell.execute_reply": "2023-06-28T14:05:35.438404Z"
    },
    "papermill": {
     "duration": 0.023754,
     "end_time": "2023-06-28T14:05:35.441085",
     "exception": false,
     "start_time": "2023-06-28T14:05:35.417331",
     "status": "completed"
    },
    "tags": []
   },
   "outputs": [],
   "source": [
    "team_df.to_csv('ipl_team_13-23.csv', index = False)"
   ]
  },
  {
   "cell_type": "markdown",
   "id": "e0c3a6c0",
   "metadata": {
    "papermill": {
     "duration": 0.010615,
     "end_time": "2023-06-28T14:05:35.462701",
     "exception": false,
     "start_time": "2023-06-28T14:05:35.452086",
     "status": "completed"
    },
    "tags": []
   },
   "source": []
  },
  {
   "cell_type": "markdown",
   "id": "25472efe",
   "metadata": {
    "papermill": {
     "duration": 0.010214,
     "end_time": "2023-06-28T14:05:35.483245",
     "exception": false,
     "start_time": "2023-06-28T14:05:35.473031",
     "status": "completed"
    },
    "tags": []
   },
   "source": [
    "# **player_df cleaning and transformation**"
   ]
  },
  {
   "cell_type": "code",
   "execution_count": 22,
   "id": "1fe5a3af",
   "metadata": {
    "execution": {
     "iopub.execute_input": "2023-06-28T14:05:35.505643Z",
     "iopub.status.busy": "2023-06-28T14:05:35.505321Z",
     "iopub.status.idle": "2023-06-28T14:05:35.518521Z",
     "shell.execute_reply": "2023-06-28T14:05:35.517527Z"
    },
    "papermill": {
     "duration": 0.026938,
     "end_time": "2023-06-28T14:05:35.520631",
     "exception": false,
     "start_time": "2023-06-28T14:05:35.493693",
     "status": "completed"
    },
    "tags": []
   },
   "outputs": [
    {
     "data": {
      "text/html": [
       "<div>\n",
       "<style scoped>\n",
       "    .dataframe tbody tr th:only-of-type {\n",
       "        vertical-align: middle;\n",
       "    }\n",
       "\n",
       "    .dataframe tbody tr th {\n",
       "        vertical-align: top;\n",
       "    }\n",
       "\n",
       "    .dataframe thead th {\n",
       "        text-align: right;\n",
       "    }\n",
       "</style>\n",
       "<table border=\"1\" class=\"dataframe\">\n",
       "  <thead>\n",
       "    <tr style=\"text-align: right;\">\n",
       "      <th></th>\n",
       "      <th>season</th>\n",
       "      <th>team_name</th>\n",
       "      <th>player_name</th>\n",
       "      <th>nationality</th>\n",
       "      <th>type</th>\n",
       "      <th>price_paid</th>\n",
       "    </tr>\n",
       "  </thead>\n",
       "  <tbody>\n",
       "    <tr>\n",
       "      <th>1</th>\n",
       "      <td>2023</td>\n",
       "      <td>Chennai Super Kings</td>\n",
       "      <td>Ajinkya Rahane</td>\n",
       "      <td>Indian</td>\n",
       "      <td>Batter</td>\n",
       "      <td>50,00,000</td>\n",
       "    </tr>\n",
       "    <tr>\n",
       "      <th>2</th>\n",
       "      <td>2023</td>\n",
       "      <td>Chennai Super Kings</td>\n",
       "      <td>Bhagath Varma</td>\n",
       "      <td>Indian</td>\n",
       "      <td>All-Rounder</td>\n",
       "      <td>20,00,000</td>\n",
       "    </tr>\n",
       "    <tr>\n",
       "      <th>3</th>\n",
       "      <td>2023</td>\n",
       "      <td>Chennai Super Kings</td>\n",
       "      <td>Kyle Jamieson</td>\n",
       "      <td>Overseas</td>\n",
       "      <td>Bowler</td>\n",
       "      <td>1,00,00,000</td>\n",
       "    </tr>\n",
       "    <tr>\n",
       "      <th>4</th>\n",
       "      <td>2023</td>\n",
       "      <td>Chennai Super Kings</td>\n",
       "      <td>Ajay Mandal</td>\n",
       "      <td>Indian</td>\n",
       "      <td>All-Rounder</td>\n",
       "      <td>20,00,000</td>\n",
       "    </tr>\n",
       "    <tr>\n",
       "      <th>5</th>\n",
       "      <td>2023</td>\n",
       "      <td>Chennai Super Kings</td>\n",
       "      <td>Nishant Sindhu</td>\n",
       "      <td>Indian</td>\n",
       "      <td>All-Rounder</td>\n",
       "      <td>60,00,000</td>\n",
       "    </tr>\n",
       "    <tr>\n",
       "      <th>...</th>\n",
       "      <td>...</td>\n",
       "      <td>...</td>\n",
       "      <td>...</td>\n",
       "      <td>...</td>\n",
       "      <td>...</td>\n",
       "      <td>...</td>\n",
       "    </tr>\n",
       "    <tr>\n",
       "      <th>1046</th>\n",
       "      <td>2013</td>\n",
       "      <td>Sunrisers Hyderabad</td>\n",
       "      <td>Darren Sammy</td>\n",
       "      <td>NaN</td>\n",
       "      <td>All-Rounder</td>\n",
       "      <td>425,000</td>\n",
       "    </tr>\n",
       "    <tr>\n",
       "      <th>1047</th>\n",
       "      <td>2013</td>\n",
       "      <td>Sunrisers Hyderabad</td>\n",
       "      <td>Sudeep Tyagi</td>\n",
       "      <td>NaN</td>\n",
       "      <td>Bowler</td>\n",
       "      <td>100,000</td>\n",
       "    </tr>\n",
       "    <tr>\n",
       "      <th>1048</th>\n",
       "      <td>2013</td>\n",
       "      <td>Sunrisers Hyderabad</td>\n",
       "      <td>Clinton McKay</td>\n",
       "      <td>NaN</td>\n",
       "      <td>Bowler</td>\n",
       "      <td>100,000</td>\n",
       "    </tr>\n",
       "    <tr>\n",
       "      <th>1049</th>\n",
       "      <td>2013</td>\n",
       "      <td>Sunrisers Hyderabad</td>\n",
       "      <td>Nathan McCullum</td>\n",
       "      <td>NaN</td>\n",
       "      <td>Bowler</td>\n",
       "      <td>100,000</td>\n",
       "    </tr>\n",
       "    <tr>\n",
       "      <th>1050</th>\n",
       "      <td>2013</td>\n",
       "      <td>Sunrisers Hyderabad</td>\n",
       "      <td>Quinton De Kock</td>\n",
       "      <td>NaN</td>\n",
       "      <td>Wicket Keeper</td>\n",
       "      <td>20,000</td>\n",
       "    </tr>\n",
       "  </tbody>\n",
       "</table>\n",
       "<p>1050 rows × 6 columns</p>\n",
       "</div>"
      ],
      "text/plain": [
       "     season            team_name      player_name nationality           type  \\\n",
       "1      2023  Chennai Super Kings   Ajinkya Rahane      Indian         Batter   \n",
       "2      2023  Chennai Super Kings    Bhagath Varma      Indian    All-Rounder   \n",
       "3      2023  Chennai Super Kings    Kyle Jamieson    Overseas         Bowler   \n",
       "4      2023  Chennai Super Kings      Ajay Mandal      Indian    All-Rounder   \n",
       "5      2023  Chennai Super Kings   Nishant Sindhu      Indian    All-Rounder   \n",
       "...     ...                  ...              ...         ...            ...   \n",
       "1046   2013  Sunrisers Hyderabad     Darren Sammy         NaN    All-Rounder   \n",
       "1047   2013  Sunrisers Hyderabad     Sudeep Tyagi         NaN         Bowler   \n",
       "1048   2013  Sunrisers Hyderabad    Clinton McKay         NaN         Bowler   \n",
       "1049   2013  Sunrisers Hyderabad  Nathan McCullum         NaN         Bowler   \n",
       "1050   2013  Sunrisers Hyderabad  Quinton De Kock         NaN  Wicket Keeper   \n",
       "\n",
       "       price_paid  \n",
       "1       50,00,000  \n",
       "2       20,00,000  \n",
       "3     1,00,00,000  \n",
       "4       20,00,000  \n",
       "5       60,00,000  \n",
       "...           ...  \n",
       "1046      425,000  \n",
       "1047      100,000  \n",
       "1048      100,000  \n",
       "1049      100,000  \n",
       "1050       20,000  \n",
       "\n",
       "[1050 rows x 6 columns]"
      ]
     },
     "execution_count": 22,
     "metadata": {},
     "output_type": "execute_result"
    }
   ],
   "source": [
    "player_df"
   ]
  },
  {
   "cell_type": "code",
   "execution_count": 23,
   "id": "084e8752",
   "metadata": {
    "execution": {
     "iopub.execute_input": "2023-06-28T14:05:35.545317Z",
     "iopub.status.busy": "2023-06-28T14:05:35.544987Z",
     "iopub.status.idle": "2023-06-28T14:05:35.565531Z",
     "shell.execute_reply": "2023-06-28T14:05:35.564656Z"
    },
    "papermill": {
     "duration": 0.034833,
     "end_time": "2023-06-28T14:05:35.567228",
     "exception": false,
     "start_time": "2023-06-28T14:05:35.532395",
     "status": "completed"
    },
    "tags": []
   },
   "outputs": [
    {
     "data": {
      "text/html": [
       "<div>\n",
       "<style scoped>\n",
       "    .dataframe tbody tr th:only-of-type {\n",
       "        vertical-align: middle;\n",
       "    }\n",
       "\n",
       "    .dataframe tbody tr th {\n",
       "        vertical-align: top;\n",
       "    }\n",
       "\n",
       "    .dataframe thead th {\n",
       "        text-align: right;\n",
       "    }\n",
       "</style>\n",
       "<table border=\"1\" class=\"dataframe\">\n",
       "  <thead>\n",
       "    <tr style=\"text-align: right;\">\n",
       "      <th></th>\n",
       "      <th>season</th>\n",
       "      <th>team_name</th>\n",
       "      <th>player_name</th>\n",
       "      <th>nationality</th>\n",
       "      <th>type</th>\n",
       "      <th>price_paid</th>\n",
       "    </tr>\n",
       "  </thead>\n",
       "  <tbody>\n",
       "    <tr>\n",
       "      <th>count</th>\n",
       "      <td>1050</td>\n",
       "      <td>1050</td>\n",
       "      <td>1050</td>\n",
       "      <td>284</td>\n",
       "      <td>1050</td>\n",
       "      <td>1050</td>\n",
       "    </tr>\n",
       "    <tr>\n",
       "      <th>unique</th>\n",
       "      <td>11</td>\n",
       "      <td>15</td>\n",
       "      <td>603</td>\n",
       "      <td>2</td>\n",
       "      <td>6</td>\n",
       "      <td>123</td>\n",
       "    </tr>\n",
       "    <tr>\n",
       "      <th>top</th>\n",
       "      <td>2022</td>\n",
       "      <td>Sunrisers Hyderabad</td>\n",
       "      <td>Jaydev Unadkat</td>\n",
       "      <td>Indian</td>\n",
       "      <td>All-Rounder</td>\n",
       "      <td>20,00,000</td>\n",
       "    </tr>\n",
       "    <tr>\n",
       "      <th>freq</th>\n",
       "      <td>204</td>\n",
       "      <td>125</td>\n",
       "      <td>10</td>\n",
       "      <td>188</td>\n",
       "      <td>380</td>\n",
       "      <td>198</td>\n",
       "    </tr>\n",
       "  </tbody>\n",
       "</table>\n",
       "</div>"
      ],
      "text/plain": [
       "       season            team_name     player_name nationality         type  \\\n",
       "count    1050                 1050            1050         284         1050   \n",
       "unique     11                   15             603           2            6   \n",
       "top      2022  Sunrisers Hyderabad  Jaydev Unadkat      Indian  All-Rounder   \n",
       "freq      204                  125              10         188          380   \n",
       "\n",
       "       price_paid  \n",
       "count        1050  \n",
       "unique        123  \n",
       "top     20,00,000  \n",
       "freq          198  "
      ]
     },
     "execution_count": 23,
     "metadata": {},
     "output_type": "execute_result"
    }
   ],
   "source": [
    "player_df.describe()"
   ]
  },
  {
   "cell_type": "code",
   "execution_count": 24,
   "id": "f81a5799",
   "metadata": {
    "execution": {
     "iopub.execute_input": "2023-06-28T14:05:35.591707Z",
     "iopub.status.busy": "2023-06-28T14:05:35.591201Z",
     "iopub.status.idle": "2023-06-28T14:05:35.606417Z",
     "shell.execute_reply": "2023-06-28T14:05:35.605351Z"
    },
    "papermill": {
     "duration": 0.029656,
     "end_time": "2023-06-28T14:05:35.608328",
     "exception": false,
     "start_time": "2023-06-28T14:05:35.578672",
     "status": "completed"
    },
    "tags": []
   },
   "outputs": [
    {
     "name": "stdout",
     "output_type": "stream",
     "text": [
      "<class 'pandas.core.frame.DataFrame'>\n",
      "Int64Index: 1050 entries, 1 to 1050\n",
      "Data columns (total 6 columns):\n",
      " #   Column       Non-Null Count  Dtype \n",
      "---  ------       --------------  ----- \n",
      " 0   season       1050 non-null   object\n",
      " 1   team_name    1050 non-null   object\n",
      " 2   player_name  1050 non-null   object\n",
      " 3   nationality  284 non-null    object\n",
      " 4   type         1050 non-null   object\n",
      " 5   price_paid   1050 non-null   object\n",
      "dtypes: object(6)\n",
      "memory usage: 57.4+ KB\n"
     ]
    }
   ],
   "source": [
    "player_df.info()"
   ]
  },
  {
   "cell_type": "code",
   "execution_count": 25,
   "id": "809e2572",
   "metadata": {
    "execution": {
     "iopub.execute_input": "2023-06-28T14:05:35.632864Z",
     "iopub.status.busy": "2023-06-28T14:05:35.632475Z",
     "iopub.status.idle": "2023-06-28T14:05:35.642785Z",
     "shell.execute_reply": "2023-06-28T14:05:35.640743Z"
    },
    "papermill": {
     "duration": 0.024143,
     "end_time": "2023-06-28T14:05:35.644437",
     "exception": false,
     "start_time": "2023-06-28T14:05:35.620294",
     "status": "completed"
    },
    "tags": []
   },
   "outputs": [
    {
     "name": "stdout",
     "output_type": "stream",
     "text": [
      "['2023' '2022' '2021' '2020' '2019' '2018' '2017' '2016' '2015' '2014'\n",
      " '2013']\n",
      "['Chennai Super Kings' 'Delhi Capitals' 'Gujarat Titans'\n",
      " 'Kolkata Knight Riders' 'Lucknow Super Giants' 'Mumbai Indians'\n",
      " 'Punjab Kings' 'Rajasthan Royals' 'Royal Challengers Bangalore'\n",
      " 'Sunrisers Hyderabad' 'Kings XI Punjab' 'Delhi Daredevils'\n",
      " 'Gujarat Lions' 'Rising Pune Supergiant' 'Pune Warriors India']\n",
      "['Ajinkya Rahane' 'Bhagath Varma' 'Kyle Jamieson' 'Ajay Mandal'\n",
      " 'Nishant Sindhu' 'Shaik Rasheed' 'Ben Stokes' 'Phil Salt' 'Ishant Sharma'\n",
      " 'Rilee Rossouw' 'Manish Pandey' 'Mukesh Kumar' 'Shivam Mavi'\n",
      " 'K.S. Bharat' 'Urvil Patel' 'Mohit Sharma' 'Joshua Little'\n",
      " 'Kane Williamson' 'Odean Smith' 'Kulwant Khejroliya' 'Shakib Al Hasan'\n",
      " 'Vaibhav Arora' 'N. Jagadeesan' 'David Wiese' 'Mandeep Singh'\n",
      " 'Litton Das' 'Suyash Sharma' 'Amit Mishra' 'Nicholas Pooran'\n",
      " 'Romario Shepherd' 'Daniel Sams' 'Swapnil Singh' 'Yudhvir Charak'\n",
      " 'Prerak Mankad' 'Yash Thakur' 'Naveen Ul Haq' 'Jaydev Unadkat'\n",
      " 'Jhye Richardson' 'Nehal Wadhera' 'Raghav Goyal' 'Cameron Green'\n",
      " 'Vishnu Vinod' 'Duan Jansen' 'Piyush Chawla' 'Shams Mulani'\n",
      " 'Harpreet Bhatia' 'Shivam Singh' 'Vidwath Kaverappa' 'Mohit Rathee'\n",
      " 'Sam Curran' 'Sikandar Raza' 'Jason Holder' 'Adam Zampa' 'Abdul P A'\n",
      " 'Akash Vashisht' 'Donovan Ferreira' 'Kunal Rathore' 'Joe Root'\n",
      " 'Murugan Ashwin' 'K.M. Asif' 'Sonu Yadav' 'Himanshu Sharma'\n",
      " 'Avinash Singh' 'Manoj Bhandage' 'Will Jacks' 'Reece Topley'\n",
      " 'Rajan Kumar' 'Sanvir Singh' 'Harry Brook' 'Heinrich Klaasen'\n",
      " 'Akeal Hosein' 'Mayank Markande' 'Adil Rashid' 'Anmolpreet Singh'\n",
      " 'Vivrant Sharma' 'Samarth Vyas' 'Upendra Singh Yadav'\n",
      " 'Nitish Kumar Reddy' 'Mayank Agarwal' 'Mayank Dagar' 'Robin Uthappa'\n",
      " 'Dwayne Bravo' 'Ambati Rayudu' 'Deepak Chahar' 'C.Hari Nishaanth'\n",
      " 'Tushar Deshpande' 'Shivam Dube' 'Chris Jordan' 'Maheesh Theekshana'\n",
      " 'Rajvardhan Hangargekar' 'Simarjeet Singh' 'Devon Conway'\n",
      " 'Dwaine Pretorius' 'Mitchell Santner' 'Adam Milne' 'Subhranshu Senapati'\n",
      " 'Mukesh Choudhary' 'Prashant Solanki' 'K.Bhagath Varma' 'David Warner'\n",
      " 'Mitchell Marsh' 'Mustafizur Rahman' 'Shardul Thakur' 'Kuldeep Yadav'\n",
      " 'Ashwin Hebbar' 'Sarfaraz Khan' 'Kamlesh Nagarkoti' 'Syed Khaleel Ahmed'\n",
      " 'Lungisani Ngidi' 'Chetan Sakariya' 'Yash Dhull' 'Vicky Ostwal'\n",
      " 'Ripal Patel' 'Lalit Yadav' 'Rovman Powell' 'Tim Seifert' 'Pravin Dubey'\n",
      " 'Mohammad Shami' 'David Miller' 'Jason Roy' 'Wriddhiman  Saha'\n",
      " 'Matthew Wade' 'Lockie Ferguson' 'Abhinav Sadarangani' 'Rahul Tewatia'\n",
      " 'Noor  Ahmad' 'R. Sai Kishore' 'Dominic Drakes' 'Vijay Shankar'\n",
      " 'Jayant Yadav' 'Darshan Nalkande' 'Yash  Dayal' 'B. Sai Sudharsan'\n",
      " 'Gurkeerat Singh' 'Alzarri Joseph' 'Varun Aaron' 'Pradeep Sangwan'\n",
      " 'Pat Cummins' 'Shreyas Iyer' 'Mohammad  Nabi' 'Nitish Rana'\n",
      " 'Sam Billings' 'Umesh Yadav' 'Shivam  Mavi' 'Sheldon Jackson'\n",
      " 'Rinku Singh' 'Anukul Roy' 'Alex Hales' 'Rasikh Dar' 'Tim Southee'\n",
      " 'Baba Indrajith' 'Chamika Karunaratne' 'Abhijeet Tomar' 'Aman Khan'\n",
      " 'Ramesh Kumar' 'Pratham Singh' 'Ashok Sharma' 'Quinton De Kock'\n",
      " 'Krunal Pandya' 'Mark Wood' 'Avesh Khan' 'Ankit Singh Rajpoot'\n",
      " 'K. Gowtham' 'Dushmanta Chameera' 'Shahbaz Nadeem' 'Manan Vohra'\n",
      " 'Evin Lewis' 'Mohsin Khan' 'Mayank Yadav' 'Ayush Badoni' 'Kyle Mayers'\n",
      " 'Karan Sharma' 'Deepak Hooda' 'Ishan Kishan' 'Dewald Brevis'\n",
      " 'Basil Thampi' 'N. Tilak Varma' 'Sanjay Yadav' 'Jofra Archer'\n",
      " 'Tymal Mills' 'Tim David' 'Ramandeep  Singh' 'Aryan Juyal' 'Fabian Allen'\n",
      " 'Riley Meredith' 'Rahul Buddhi' 'Hrithik Shokeen' 'Mohd. Arshad Khan'\n",
      " 'Arjun  Tendulkar' 'Shikhar Dhawan' 'Kagiso Rabada' 'Jonny Bairstow'\n",
      " 'Rahul Chahar' 'Harpreet  Brar' 'Shahrukh Khan' 'Jitesh Sharma'\n",
      " 'Prabhsimran Singh' 'Ishan Porel' 'Liam Livingstone' 'Sandeep Sharma'\n",
      " 'Raj Angad Bawa' 'Rishi Dhawan' 'Nathan Ellis' 'Atharva Taide'\n",
      " 'Bhanuka Rajapaksa' 'Benny Howell' 'Writtick Chatterjee' 'Baltej Dhanda'\n",
      " 'Ansh Patel' 'R. Ashwin' 'Trent Boult' 'Shimron Hetmyer'\n",
      " 'Devdutt Padikkal' 'Prasidh Krishna' 'Yuzvendra Chahal' 'Riyan Parag'\n",
      " 'K.C Cariappa' 'James Neesham' 'Nathan Coulter-Nile' 'Navdeep Saini'\n",
      " 'Kuldeep  Sen' 'Karun Nair' 'Rassie Van Der Dussen' 'Daryl Mitchell'\n",
      " 'Obed Mccoy' 'Dhruv Jurel' 'Tejas Baroka' 'Kuldip Yadav'\n",
      " 'Shubham Garhwal' 'Anunay Singh' 'Faf Du Plessis' 'Wanindu Hasaranga'\n",
      " 'Harshal Patel' 'Dinesh  Karthik' 'Josh Hazlewood' 'Shahbaz Ahamad'\n",
      " 'Anuj Rawat' 'Akash  Deep' 'Karn Sharma' 'Mahipal Lomror' 'Finn Allen'\n",
      " 'Sherfane Rutherford' 'Jason Behrendorff' 'Siddharth  Kaul'\n",
      " 'Suyash Prabhudessai' 'Luvnith Sisodia' 'Chama Milind' 'Aneeshwar Gautam'\n",
      " 'David Willey' 'Washington Sundar' 'Bhuvneshwar Kumar' 'T. Natarajan'\n",
      " 'Priyam  Garg' 'Rahul Tripathi' 'Abhishek Sharma' 'Kartik Tyagi'\n",
      " 'Shreyas Gopal' 'Jagadeesha Suchith' 'Aiden Markram' 'Marco Jansen'\n",
      " 'Glenn Phillips' 'Fazalhaq Farooqi' 'Sean Abbott' 'R Samarth'\n",
      " 'Shashank Singh' 'Saurabh Dubey' 'Krishnappa Gowtham' 'Moeen Ali'\n",
      " 'Cheteshwar Pujara' 'C Hari Nishaanth' 'M. Harisankar Reddy' 'Tom Curran'\n",
      " 'Steven Smith' 'Lukman Hussain Meriwala' 'M Siddharth' 'Harbhajan Singh'\n",
      " 'Ben Cutting' 'Pawan Negi' 'Venkatesh Iyer' 'Arjun Tendulkar'\n",
      " 'Moises Henriques' 'Dawid Malan' 'Jalaj Saxena' 'Saurabh Kumar'\n",
      " 'Utkarsh Singh' 'Christopher Morris' 'Akash Singh' 'Glenn Maxwell'\n",
      " 'Dan Christian' 'Sachin Baby' 'Rajat Patidar' 'Mohammed Azharudeen'\n",
      " 'Suyash Prabhudesai' 'Kona Srikar Bharat' 'Kedar Jadhav' 'Mujeeb Zadran'\n",
      " 'J Suchith' 'Marcus Stoinis' 'Alex Carey' 'Chris Woakes'\n",
      " 'Sheldon Cottrell' 'Ravi Bishnoi' 'Tajinder Dhillon' 'Eoin Morgan'\n",
      " 'Varun Chakaravarthy' 'Tom Banton' 'Chris Green' 'Nikhil Shankar Naik'\n",
      " 'Pravin Tambe' 'Chris Lynn' 'Saurabh Tiwary' 'Digvijay Deshmukh'\n",
      " 'Prince Balwant Rai Singh' 'Yashasvi Jaiswal' 'Andrew Tye'\n",
      " 'Oshane Thomas' 'Anirudha Ashok Joshi' 'Aaron Finch' 'Kane Richardson'\n",
      " 'Dale Steyn' 'Isuru Udana' 'Joshua Philippe' 'Pavan Deshpande'\n",
      " 'Priyam Garg' 'Virat Singh' 'Sandeep Bavanaka' 'Abdul Samad'\n",
      " 'Ruturaj Gaikwad' 'Colin Ingram' 'Axar Rajesh Patel' 'Hanuma Vihari'\n",
      " 'Keemo Paul' 'Ankush Bains' 'Nathu Singh' 'Bandaru Ayyappa'\n",
      " 'Nicolas Pooran' 'Hardus Viljoen' 'Sarfaraz Naushad Khan'\n",
      " 'Arshdeep Singh' 'Agnivesh Ayachi' 'Harpreet Brar' 'M. Ashwin'\n",
      " 'Carlos Brathwaite' 'Joe Denly' 'Harry Gurney' 'Shrikant Mundhe'\n",
      " 'Prithvi Raj Yarra' 'Anrich Nortje' 'Barinder Singh Sran'\n",
      " 'Lasith Malinga' 'Yuvraj Singh' 'Pankaj Jaswal' 'Ashton Turner'\n",
      " 'Shubham Ranjane' 'Akshdeep Nath' 'Prayas Ray Barman' 'Himmat Singh'\n",
      " 'Gurkeerat Singh Mann' 'Milind Kumar' 'Wriddhiman Saha' 'Martin Guptill'\n",
      " 'Shane Watson' 'Shardul Narendra Thakur' 'Murali Vijay' 'Imran Tahir'\n",
      " 'Asif K M' 'N Jagadeesan' 'Kanishk Seth' 'Monu Singh' 'Dhruv Shorey'\n",
      " 'Kshitiz Sharma' 'Chaitanya Bishnoi' 'Gautam Gambhir' 'Colin Munro'\n",
      " 'Daniel Christian' 'Naman Ojha' 'Prithvi Shaw' 'Manjot Kalra'\n",
      " 'Sandeep Lamichhane' 'Sayan Ghosh' 'KL Rahul' 'Ravichandran Ashwin'\n",
      " 'Christopher Gayle' 'Ben Dwarshuis' 'Manoj Tiwary' 'Manzoor Dar'\n",
      " 'Pardeep Sahu' 'Mitchell Starc' 'Dinesh Karthik' 'Kuldeep Singh Yadav'\n",
      " 'Mitchell Johnson' 'Shubman Gill' 'Ranganath Vinay Kumar'\n",
      " 'Cameron Delport' 'Javon Searless' 'Apoorv Vijay Wankhade' 'Ishank Jaggi'\n",
      " 'Kieron Pollard' 'Suryakumar Yadav' 'Jean-Paul Duminy' 'Akila Dhananjaya'\n",
      " 'Nidheesh M D Dinesan' 'Aditya Tare' 'Siddhesh Dinesh Lad' 'Sharad Lumba'\n",
      " 'Benjamin Stokes' 'Sanju Samson' 'Jos Buttler' 'Darcy Short'\n",
      " 'Dhawal Kulkarni' 'Zahir Khan Pakteen' 'Ben Laughlin' 'Stuart Binny'\n",
      " 'Dushmantha Chameera' 'Anureet Singh' 'Aryaman Vikram Birla' 'Midhun S'\n",
      " 'Prashant Chopra' 'Jatin Saxena' 'Ankit Sharma' 'Yuzvendra Singh Chahal'\n",
      " 'Brendon McCullum' 'M.S. Washington Sundar' 'Mohammed Siraj'\n",
      " 'Colin De Grandhomme' 'Parthiv Patel' 'Aniket Choudhary'\n",
      " 'Rashid Khan Arman' 'Siddarth Kaul' 'Yusuf Pathan' 'Shreevats Goswami'\n",
      " 'Mohammad Nabi' 'Billy Stanlake' 'T Natarajan' 'Bipul Sharma'\n",
      " 'Syed Mehdi Hasan' 'Ricky Bhui' 'Tanmay Agarwal' 'Patrick Cummins'\n",
      " 'Angelo Mathews' 'Corey Anderson' 'Ankeet Bawane' 'Manpreet Gony'\n",
      " 'Munaf Patel' 'Shubam Agrawal' 'Tejas Singh Baroka' 'Chirag Suri'\n",
      " 'Shelley Shaurya' 'Matt Henry' 'Darren Sammy' 'Darren Bravo'\n",
      " 'R. Sanjay Yadav' 'Asela Gunarathna' 'Milind Tandon'\n",
      " 'Rahul Ajay Tripathi' 'Praveen Dubey' 'Eklavya Dwivedi' 'Rishabh Pant'\n",
      " 'Joel Paris' 'Pratyush Singh' 'Akhil Arvind Herwadkar' 'Pawan Suyal'\n",
      " 'Praveen Kumar' 'Dwayne Smith' 'Jaydev Shah' 'Shadab Jakati'\n",
      " 'Shivil Kaushik' 'Sarabjit Ladda' 'Umang Sharma' 'Paras Dogra'\n",
      " 'Kyle Abbott' 'K.C. Cariappa' 'Farhaan Behardien' 'Armaan Jaffer'\n",
      " 'John Hastings' 'Rajagopal Sathish' 'Manan Ajay Sharma'\n",
      " 'Kishore Pramod Kamath' 'Deepak Punia' 'Kevin Pietersen' 'Irfan Pathan'\n",
      " 'Thisara Perera' 'Rajat Bhatia' 'Ashok Dinda' 'Scott Boland'\n",
      " 'Peter Handscomb' 'Rudra Pratap Singh' 'Ishwar Chandra Pandey'\n",
      " 'Jaskaran Singh' 'Baba Aparajith' 'Samuel Badree' 'Travis Head'\n",
      " 'Vikramjeet Malik' 'Akshay Karnewar' 'Iqbal Abdullah' 'Vikas Tokas'\n",
      " 'Ashish Nehra' 'Abhimanyu Mithun' 'Tirumalasetti Suman' 'Michael Hussey'\n",
      " 'Rahul Sharma' 'Zaheer Khan' 'Gurinder Sandhu' 'Domnic Joseph Muthuswamy'\n",
      " 'Albie Morkel' 'C.M. Gautam' 'K.K. Jiyaz' 'Yogesh Gowalkar' 'Brad Hogg'\n",
      " 'Aditya Garhwal' 'Sumit Narwal' 'Vaibhav Rawal' 'Pragyan Ojha'\n",
      " 'Mitchell McClenaghan' 'Aiden Blizzard' 'Hardik Pandya' 'Akshay Wakhare'\n",
      " 'J. Suchitch' 'Juan Theron' 'Barinder Singh Saran' 'Dinesh Salunkhe'\n",
      " 'Sagar Trivedi' 'Subramaniam Badrinath' 'Shishir Bhavane' 'Ravi Bopara'\n",
      " 'Laxmi Ratan Shukla' 'Prasanth Padmanabhan' 'Ben Hilfenhaus'\n",
      " 'Mithun Manhas' 'Ronit More' 'Ross Taylor' 'Wayne Parnell' 'Rahul Shukla'\n",
      " 'HS Sharath' 'George Bailey' 'Virender Sehwag' 'Shaun Marsh'\n",
      " 'Beuran Hendricks' 'Lakshmipathy Balaji' 'Gurkirat Singh Mann'\n",
      " 'Murali Kartik' 'Mandeep Hardev Singh' 'Akshar Rajesh Patel'\n",
      " 'Parvinder Awana' 'Shivam Sharma' 'Karanveer Singh' 'Jacques Kallis'\n",
      " 'Morne Morkel' 'Ryan Ten Doeschate' 'Andre Russell' 'Manvinder Bisla'\n",
      " 'Veer Pratap Singh' 'Debabrata Das' 'Sayan Sekhar Mandal'\n",
      " 'Jasprit Bumrah' 'Marchant De Lange' 'Krismar Santokie' 'Ben Dunk'\n",
      " 'Sushant Marathe' 'Brad Hodge' 'Abhishek Nayar' 'Unmukt Chand'\n",
      " 'Dishant Yagnik' 'Kevon Cooper' 'Ankit Nagendra Sharma'\n",
      " 'Muttiah Muralitharan' 'Ravi Rampaul' 'Nic Maddinson' 'Vijay Zol'\n",
      " 'Abu Nechim Ahmed' 'Sachin Rana' 'Sandeep Warrier' 'Tanmay Mishra'\n",
      " 'Yogesh Takawale' 'Parveez Rasool' 'Venugopal Rao' 'Brendan Taylor'\n",
      " 'Prasanth Parameswaran' 'Amit Paunikar' 'Ashish Reddy'\n",
      " 'Srikkanth Anirudha' 'Manprit Juneja' 'Dirk Nannes' 'Akila Dananjaya'\n",
      " 'Johan Botha' 'Jesse Ryder' 'Jeevan Mendis' 'Luke Pomersbach'\n",
      " 'Sachithra Senanayaka' 'Ryan McLaren' 'Ricky Ponting' 'Philip Hughes'\n",
      " 'Jacob Oram' 'Ajantha Mendis' 'Michael Clarke' 'James Faulkner'\n",
      " 'Fidel Edwards' 'Kusal Janith Perera' 'Pankaj Singh'\n",
      " 'Christopher Barnwell' 'Sudeep Tyagi' 'Clinton McKay' 'Nathan McCullum']\n",
      "['Indian' 'Overseas' nan]\n",
      "['Batter' 'All-Rounder' 'Bowler' 'Wicket-Keeper' 'Batsman' 'Wicket Keeper']\n",
      "['50,00,000' '20,00,000' '1,00,00,000' '60,00,000' '16,25,00,000'\n",
      " '2,00,00,000' '4,60,00,000' '2,40,00,000' '5,50,00,000' '6,00,00,000'\n",
      " '1,20,00,000' '4,40,00,000' '1,50,00,000' '90,00,000' '16,00,00,000'\n",
      " '75,00,000' '45,00,000' '17,50,00,000' '40,00,000' '18,50,00,000'\n",
      " '5,75,00,000' '30,00,000' '3,20,00,000' '1,90,00,000' '70,00,000'\n",
      " '13,25,00,000' '5,25,00,000' '2,60,00,000' '25,00,000' '8,25,00,000'\n",
      " '1,80,00,000' '6,75,00,000' '14,00,00,000' '4,00,00,000' '3,60,00,000'\n",
      " '6,25,00,000' '6,50,00,000' '10,75,00,000' '1,10,00,000' '4,20,00,000'\n",
      " '65,00,000' '2,80,00,000' '3,00,00,000' '10,00,00,000' '9,00,00,000'\n",
      " '1,40,00,000' '1,70,00,000' '7,25,00,000' '12,25,00,000' '8,00,00,000'\n",
      " '55,00,000' '7,50,00,000' '8,75,00,000' '15,25,00,000' '1,60,00,000'\n",
      " '1,30,00,000' '9,25,00,000' '3,80,00,000' '11,50,00,000' '5,00,00,000'\n",
      " '8,50,00,000' '7,75,00,000' '7,00,00,000' '3,40,00,000' '95,00,000'\n",
      " '80,00,000' '2,20,00,000' '15,00,00,000' '14,25,00,000' '4,80,00,000'\n",
      " '15,50,00,000' '6,40,00,000' '8,40,00,000' '7,20,00,000' '7,80,00,000'\n",
      " '11,00,00,000' '7,60,00,000' '6,20,00,000' '5,60,00,000' '9,60,00,000'\n",
      " '9,40,00,000' '7,40,00,000' '5,80,00,000' '8,80,00,000' '5,40,00,000'\n",
      " '12,50,00,000' '85,00,000' '5,20,00,000' '4,50,00,000' '10,00,000'\n",
      " '3,50,00,000' '14,50,00,000' '12,00,00,000' '2,30,00,000' '35,00,000'\n",
      " '2,10,00,000' '2,50,00,000' '9,50,00,000' '15,00,000' '10,50,00,000'\n",
      " '4,75,00,000' '3,25,00,000' '4,25,00,000' '3,75,00,000' '625,000'\n",
      " '600,000' '20,000' '450,000' '260,000' '50,000' '500,000' '300,000'\n",
      " '1,000,000' '400,000' '100,000' '725,000' '700,000' '675,000' '210,000'\n",
      " '525,000' '290,000' '150,000' '425,000']\n"
     ]
    }
   ],
   "source": [
    "for cols in player_df:\n",
    "    print(player_df[cols].unique())"
   ]
  },
  {
   "cell_type": "code",
   "execution_count": 26,
   "id": "fc400939",
   "metadata": {
    "execution": {
     "iopub.execute_input": "2023-06-28T14:05:35.669265Z",
     "iopub.status.busy": "2023-06-28T14:05:35.668964Z",
     "iopub.status.idle": "2023-06-28T14:05:35.673779Z",
     "shell.execute_reply": "2023-06-28T14:05:35.673184Z"
    },
    "papermill": {
     "duration": 0.018887,
     "end_time": "2023-06-28T14:05:35.675321",
     "exception": false,
     "start_time": "2023-06-28T14:05:35.656434",
     "status": "completed"
    },
    "tags": []
   },
   "outputs": [],
   "source": [
    "player_df.loc[player_df['team_name'] == 'Kings XI Punjab','team_name'] = 'Punjab Kings'\n",
    "player_df.loc[player_df['team_name'] == 'Delhi Daredevils','team_name'] = 'Delhi Capitals'\n"
   ]
  },
  {
   "cell_type": "code",
   "execution_count": 27,
   "id": "be603b50",
   "metadata": {
    "execution": {
     "iopub.execute_input": "2023-06-28T14:05:35.701373Z",
     "iopub.status.busy": "2023-06-28T14:05:35.700813Z",
     "iopub.status.idle": "2023-06-28T14:05:35.705536Z",
     "shell.execute_reply": "2023-06-28T14:05:35.704992Z"
    },
    "papermill": {
     "duration": 0.01932,
     "end_time": "2023-06-28T14:05:35.707361",
     "exception": false,
     "start_time": "2023-06-28T14:05:35.688041",
     "status": "completed"
    },
    "tags": []
   },
   "outputs": [],
   "source": [
    "player_df.loc[player_df['type'] == 'Batter','type'] = 'Batsman'\n",
    "player_df.loc[player_df['type'] == 'Wicket Keeper','type'] = 'Wicket-Keeper'"
   ]
  },
  {
   "cell_type": "code",
   "execution_count": 28,
   "id": "57391853",
   "metadata": {
    "execution": {
     "iopub.execute_input": "2023-06-28T14:05:35.732356Z",
     "iopub.status.busy": "2023-06-28T14:05:35.732047Z",
     "iopub.status.idle": "2023-06-28T14:05:35.738408Z",
     "shell.execute_reply": "2023-06-28T14:05:35.737204Z"
    },
    "papermill": {
     "duration": 0.021165,
     "end_time": "2023-06-28T14:05:35.740628",
     "exception": false,
     "start_time": "2023-06-28T14:05:35.719463",
     "status": "completed"
    },
    "tags": []
   },
   "outputs": [],
   "source": [
    "player_df.price_paid = player_df['price_paid'].apply(lambda x : str(x).replace(',','')).astype(int)"
   ]
  },
  {
   "cell_type": "code",
   "execution_count": 29,
   "id": "ca28002a",
   "metadata": {
    "execution": {
     "iopub.execute_input": "2023-06-28T14:05:35.767280Z",
     "iopub.status.busy": "2023-06-28T14:05:35.766950Z",
     "iopub.status.idle": "2023-06-28T14:05:35.773951Z",
     "shell.execute_reply": "2023-06-28T14:05:35.772686Z"
    },
    "papermill": {
     "duration": 0.023402,
     "end_time": "2023-06-28T14:05:35.776412",
     "exception": false,
     "start_time": "2023-06-28T14:05:35.753010",
     "status": "completed"
    },
    "tags": []
   },
   "outputs": [],
   "source": [
    "# 58.5501 was roughly the exchage for dollar to rupee in 2013\n",
    "player_df.loc[player_df['season']=='2013','price_paid'] =  player_df.loc[player_df['season']=='2013','price_paid'] * 58.5501"
   ]
  },
  {
   "cell_type": "code",
   "execution_count": 30,
   "id": "ef7bcc7c",
   "metadata": {
    "execution": {
     "iopub.execute_input": "2023-06-28T14:05:35.801699Z",
     "iopub.status.busy": "2023-06-28T14:05:35.801223Z",
     "iopub.status.idle": "2023-06-28T14:05:35.807112Z",
     "shell.execute_reply": "2023-06-28T14:05:35.806058Z"
    },
    "papermill": {
     "duration": 0.020694,
     "end_time": "2023-06-28T14:05:35.809125",
     "exception": false,
     "start_time": "2023-06-28T14:05:35.788431",
     "status": "completed"
    },
    "tags": []
   },
   "outputs": [],
   "source": [
    "player_df.rename(columns = {'price_paid':'price_paid(in rupee)'}, inplace = True)"
   ]
  },
  {
   "cell_type": "code",
   "execution_count": 31,
   "id": "6c28bf8a",
   "metadata": {
    "execution": {
     "iopub.execute_input": "2023-06-28T14:05:35.834500Z",
     "iopub.status.busy": "2023-06-28T14:05:35.834175Z",
     "iopub.status.idle": "2023-06-28T14:05:35.841535Z",
     "shell.execute_reply": "2023-06-28T14:05:35.840303Z"
    },
    "papermill": {
     "duration": 0.022107,
     "end_time": "2023-06-28T14:05:35.843323",
     "exception": false,
     "start_time": "2023-06-28T14:05:35.821216",
     "status": "completed"
    },
    "tags": []
   },
   "outputs": [
    {
     "name": "stdout",
     "output_type": "stream",
     "text": [
      "season : 0\n",
      "team_name : 0\n",
      "player_name : 0\n",
      "nationality : 766\n",
      "type : 0\n",
      "price_paid(in rupee) : 0\n"
     ]
    }
   ],
   "source": [
    "for col in player_df:\n",
    "    print(col, \":\", player_df[col].isnull().sum())"
   ]
  },
  {
   "cell_type": "code",
   "execution_count": 32,
   "id": "6f600dbb",
   "metadata": {
    "execution": {
     "iopub.execute_input": "2023-06-28T14:05:35.867738Z",
     "iopub.status.busy": "2023-06-28T14:05:35.867392Z",
     "iopub.status.idle": "2023-06-28T14:05:35.875149Z",
     "shell.execute_reply": "2023-06-28T14:05:35.874451Z"
    },
    "papermill": {
     "duration": 0.02191,
     "end_time": "2023-06-28T14:05:35.876707",
     "exception": false,
     "start_time": "2023-06-28T14:05:35.854797",
     "status": "completed"
    },
    "tags": []
   },
   "outputs": [
    {
     "data": {
      "text/plain": [
       "0"
      ]
     },
     "execution_count": 32,
     "metadata": {},
     "output_type": "execute_result"
    }
   ],
   "source": [
    "player_df.duplicated().sum()"
   ]
  },
  {
   "cell_type": "code",
   "execution_count": 33,
   "id": "b45a2e74",
   "metadata": {
    "execution": {
     "iopub.execute_input": "2023-06-28T14:05:35.901887Z",
     "iopub.status.busy": "2023-06-28T14:05:35.901142Z",
     "iopub.status.idle": "2023-06-28T14:05:35.914774Z",
     "shell.execute_reply": "2023-06-28T14:05:35.913509Z"
    },
    "papermill": {
     "duration": 0.027685,
     "end_time": "2023-06-28T14:05:35.916430",
     "exception": false,
     "start_time": "2023-06-28T14:05:35.888745",
     "status": "completed"
    },
    "tags": []
   },
   "outputs": [
    {
     "data": {
      "text/html": [
       "<div>\n",
       "<style scoped>\n",
       "    .dataframe tbody tr th:only-of-type {\n",
       "        vertical-align: middle;\n",
       "    }\n",
       "\n",
       "    .dataframe tbody tr th {\n",
       "        vertical-align: top;\n",
       "    }\n",
       "\n",
       "    .dataframe thead th {\n",
       "        text-align: right;\n",
       "    }\n",
       "</style>\n",
       "<table border=\"1\" class=\"dataframe\">\n",
       "  <thead>\n",
       "    <tr style=\"text-align: right;\">\n",
       "      <th></th>\n",
       "      <th>season</th>\n",
       "      <th>team_name</th>\n",
       "      <th>player_name</th>\n",
       "      <th>nationality</th>\n",
       "      <th>type</th>\n",
       "      <th>price_paid(in rupee)</th>\n",
       "    </tr>\n",
       "  </thead>\n",
       "  <tbody>\n",
       "    <tr>\n",
       "      <th>288</th>\n",
       "      <td>2021</td>\n",
       "      <td>Chennai Super Kings</td>\n",
       "      <td>K.Bhagath Varma</td>\n",
       "      <td>NaN</td>\n",
       "      <td>All-Rounder</td>\n",
       "      <td>2000000.0</td>\n",
       "    </tr>\n",
       "    <tr>\n",
       "      <th>293</th>\n",
       "      <td>2021</td>\n",
       "      <td>Delhi Capitals</td>\n",
       "      <td>Sam Billings</td>\n",
       "      <td>NaN</td>\n",
       "      <td>Wicket-Keeper</td>\n",
       "      <td>20000000.0</td>\n",
       "    </tr>\n",
       "    <tr>\n",
       "      <th>294</th>\n",
       "      <td>2021</td>\n",
       "      <td>Delhi Capitals</td>\n",
       "      <td>Umesh Yadav</td>\n",
       "      <td>NaN</td>\n",
       "      <td>Bowler</td>\n",
       "      <td>10000000.0</td>\n",
       "    </tr>\n",
       "    <tr>\n",
       "      <th>295</th>\n",
       "      <td>2021</td>\n",
       "      <td>Delhi Capitals</td>\n",
       "      <td>Ripal Patel</td>\n",
       "      <td>NaN</td>\n",
       "      <td>All-Rounder</td>\n",
       "      <td>2000000.0</td>\n",
       "    </tr>\n",
       "    <tr>\n",
       "      <th>296</th>\n",
       "      <td>2021</td>\n",
       "      <td>Delhi Capitals</td>\n",
       "      <td>Vishnu Vinod</td>\n",
       "      <td>NaN</td>\n",
       "      <td>Wicket-Keeper</td>\n",
       "      <td>2000000.0</td>\n",
       "    </tr>\n",
       "    <tr>\n",
       "      <th>...</th>\n",
       "      <td>...</td>\n",
       "      <td>...</td>\n",
       "      <td>...</td>\n",
       "      <td>...</td>\n",
       "      <td>...</td>\n",
       "      <td>...</td>\n",
       "    </tr>\n",
       "    <tr>\n",
       "      <th>1041</th>\n",
       "      <td>2013</td>\n",
       "      <td>Royal Challengers Bangalore</td>\n",
       "      <td>Ravi Rampaul</td>\n",
       "      <td>NaN</td>\n",
       "      <td>Bowler</td>\n",
       "      <td>16979529.0</td>\n",
       "    </tr>\n",
       "    <tr>\n",
       "      <th>1043</th>\n",
       "      <td>2013</td>\n",
       "      <td>Royal Challengers Bangalore</td>\n",
       "      <td>Daniel Christian</td>\n",
       "      <td>NaN</td>\n",
       "      <td>All-Rounder</td>\n",
       "      <td>5855010.0</td>\n",
       "    </tr>\n",
       "    <tr>\n",
       "      <th>1045</th>\n",
       "      <td>2013</td>\n",
       "      <td>Sunrisers Hyderabad</td>\n",
       "      <td>Thisara Perera</td>\n",
       "      <td>NaN</td>\n",
       "      <td>All-Rounder</td>\n",
       "      <td>39521317.5</td>\n",
       "    </tr>\n",
       "    <tr>\n",
       "      <th>1046</th>\n",
       "      <td>2013</td>\n",
       "      <td>Sunrisers Hyderabad</td>\n",
       "      <td>Darren Sammy</td>\n",
       "      <td>NaN</td>\n",
       "      <td>All-Rounder</td>\n",
       "      <td>24883792.5</td>\n",
       "    </tr>\n",
       "    <tr>\n",
       "      <th>1050</th>\n",
       "      <td>2013</td>\n",
       "      <td>Sunrisers Hyderabad</td>\n",
       "      <td>Quinton De Kock</td>\n",
       "      <td>NaN</td>\n",
       "      <td>Wicket-Keeper</td>\n",
       "      <td>1171002.0</td>\n",
       "    </tr>\n",
       "  </tbody>\n",
       "</table>\n",
       "<p>429 rows × 6 columns</p>\n",
       "</div>"
      ],
      "text/plain": [
       "     season                    team_name       player_name nationality  \\\n",
       "288    2021          Chennai Super Kings   K.Bhagath Varma         NaN   \n",
       "293    2021               Delhi Capitals      Sam Billings         NaN   \n",
       "294    2021               Delhi Capitals       Umesh Yadav         NaN   \n",
       "295    2021               Delhi Capitals       Ripal Patel         NaN   \n",
       "296    2021               Delhi Capitals      Vishnu Vinod         NaN   \n",
       "...     ...                          ...               ...         ...   \n",
       "1041   2013  Royal Challengers Bangalore      Ravi Rampaul         NaN   \n",
       "1043   2013  Royal Challengers Bangalore  Daniel Christian         NaN   \n",
       "1045   2013          Sunrisers Hyderabad    Thisara Perera         NaN   \n",
       "1046   2013          Sunrisers Hyderabad      Darren Sammy         NaN   \n",
       "1050   2013          Sunrisers Hyderabad   Quinton De Kock         NaN   \n",
       "\n",
       "               type  price_paid(in rupee)  \n",
       "288     All-Rounder             2000000.0  \n",
       "293   Wicket-Keeper            20000000.0  \n",
       "294          Bowler            10000000.0  \n",
       "295     All-Rounder             2000000.0  \n",
       "296   Wicket-Keeper             2000000.0  \n",
       "...             ...                   ...  \n",
       "1041         Bowler            16979529.0  \n",
       "1043    All-Rounder             5855010.0  \n",
       "1045    All-Rounder            39521317.5  \n",
       "1046    All-Rounder            24883792.5  \n",
       "1050  Wicket-Keeper             1171002.0  \n",
       "\n",
       "[429 rows x 6 columns]"
      ]
     },
     "execution_count": 33,
     "metadata": {},
     "output_type": "execute_result"
    }
   ],
   "source": [
    "player_df.loc[(player_df.nationality.isnull())  & (player_df.player_name.duplicated()), : ]"
   ]
  },
  {
   "cell_type": "code",
   "execution_count": 34,
   "id": "78e2743c",
   "metadata": {
    "execution": {
     "iopub.execute_input": "2023-06-28T14:05:35.942663Z",
     "iopub.status.busy": "2023-06-28T14:05:35.942104Z",
     "iopub.status.idle": "2023-06-28T14:05:35.946004Z",
     "shell.execute_reply": "2023-06-28T14:05:35.945208Z"
    },
    "papermill": {
     "duration": 0.019675,
     "end_time": "2023-06-28T14:05:35.948081",
     "exception": false,
     "start_time": "2023-06-28T14:05:35.928406",
     "status": "completed"
    },
    "tags": []
   },
   "outputs": [],
   "source": [
    "df = player_df.copy()"
   ]
  },
  {
   "cell_type": "code",
   "execution_count": 35,
   "id": "98c07f29",
   "metadata": {
    "execution": {
     "iopub.execute_input": "2023-06-28T14:05:35.973814Z",
     "iopub.status.busy": "2023-06-28T14:05:35.972920Z",
     "iopub.status.idle": "2023-06-28T14:05:35.978666Z",
     "shell.execute_reply": "2023-06-28T14:05:35.977903Z"
    },
    "papermill": {
     "duration": 0.020187,
     "end_time": "2023-06-28T14:05:35.980494",
     "exception": false,
     "start_time": "2023-06-28T14:05:35.960307",
     "status": "completed"
    },
    "tags": []
   },
   "outputs": [],
   "source": [
    "df.drop_duplicates('player_name', keep = 'first', inplace = True)"
   ]
  },
  {
   "cell_type": "code",
   "execution_count": 36,
   "id": "6667e9ab",
   "metadata": {
    "execution": {
     "iopub.execute_input": "2023-06-28T14:05:36.008117Z",
     "iopub.status.busy": "2023-06-28T14:05:36.007196Z",
     "iopub.status.idle": "2023-06-28T14:05:36.012983Z",
     "shell.execute_reply": "2023-06-28T14:05:36.011946Z"
    },
    "papermill": {
     "duration": 0.020569,
     "end_time": "2023-06-28T14:05:36.014521",
     "exception": false,
     "start_time": "2023-06-28T14:05:35.993952",
     "status": "completed"
    },
    "tags": []
   },
   "outputs": [],
   "source": [
    "df1 = df.loc[:,['player_name','nationality']].copy()"
   ]
  },
  {
   "cell_type": "code",
   "execution_count": 37,
   "id": "f6a880cc",
   "metadata": {
    "execution": {
     "iopub.execute_input": "2023-06-28T14:05:36.039939Z",
     "iopub.status.busy": "2023-06-28T14:05:36.039378Z",
     "iopub.status.idle": "2023-06-28T14:05:36.046857Z",
     "shell.execute_reply": "2023-06-28T14:05:36.045877Z"
    },
    "papermill": {
     "duration": 0.022095,
     "end_time": "2023-06-28T14:05:36.048589",
     "exception": false,
     "start_time": "2023-06-28T14:05:36.026494",
     "status": "completed"
    },
    "tags": []
   },
   "outputs": [
    {
     "data": {
      "text/plain": [
       "337"
      ]
     },
     "execution_count": 37,
     "metadata": {},
     "output_type": "execute_result"
    }
   ],
   "source": [
    "df1['nationality'].isnull().sum()"
   ]
  },
  {
   "cell_type": "code",
   "execution_count": 38,
   "id": "79ada6c4",
   "metadata": {
    "execution": {
     "iopub.execute_input": "2023-06-28T14:05:36.075654Z",
     "iopub.status.busy": "2023-06-28T14:05:36.074925Z",
     "iopub.status.idle": "2023-06-28T14:05:36.081702Z",
     "shell.execute_reply": "2023-06-28T14:05:36.080694Z"
    },
    "papermill": {
     "duration": 0.021914,
     "end_time": "2023-06-28T14:05:36.083637",
     "exception": false,
     "start_time": "2023-06-28T14:05:36.061723",
     "status": "completed"
    },
    "tags": []
   },
   "outputs": [],
   "source": [
    "df1_dict = df1.set_index('player_name').to_dict('index')"
   ]
  },
  {
   "cell_type": "code",
   "execution_count": 39,
   "id": "60a7aae6",
   "metadata": {
    "execution": {
     "iopub.execute_input": "2023-06-28T14:05:36.111539Z",
     "iopub.status.busy": "2023-06-28T14:05:36.111001Z",
     "iopub.status.idle": "2023-06-28T14:05:36.115878Z",
     "shell.execute_reply": "2023-06-28T14:05:36.114832Z"
    },
    "papermill": {
     "duration": 0.020735,
     "end_time": "2023-06-28T14:05:36.117394",
     "exception": false,
     "start_time": "2023-06-28T14:05:36.096659",
     "status": "completed"
    },
    "tags": []
   },
   "outputs": [
    {
     "data": {
      "text/plain": [
       "'Indian'"
      ]
     },
     "execution_count": 39,
     "metadata": {},
     "output_type": "execute_result"
    }
   ],
   "source": [
    "df1_dict['Ajinkya Rahane']['nationality']"
   ]
  },
  {
   "cell_type": "code",
   "execution_count": 40,
   "id": "5ecaab26",
   "metadata": {
    "execution": {
     "iopub.execute_input": "2023-06-28T14:05:36.143282Z",
     "iopub.status.busy": "2023-06-28T14:05:36.142715Z",
     "iopub.status.idle": "2023-06-28T14:05:36.326587Z",
     "shell.execute_reply": "2023-06-28T14:05:36.325641Z"
    },
    "papermill": {
     "duration": 0.199329,
     "end_time": "2023-06-28T14:05:36.329025",
     "exception": false,
     "start_time": "2023-06-28T14:05:36.129696",
     "status": "completed"
    },
    "tags": []
   },
   "outputs": [],
   "source": [
    "for i,r in player_df.iterrows():\n",
    "    if r.player_name in df1_dict:\n",
    "        player_df.loc[i,'nationality'] = df1_dict[r.player_name]['nationality']"
   ]
  },
  {
   "cell_type": "code",
   "execution_count": 41,
   "id": "36639a37",
   "metadata": {
    "execution": {
     "iopub.execute_input": "2023-06-28T14:05:36.356869Z",
     "iopub.status.busy": "2023-06-28T14:05:36.356517Z",
     "iopub.status.idle": "2023-06-28T14:05:36.364701Z",
     "shell.execute_reply": "2023-06-28T14:05:36.363547Z"
    },
    "papermill": {
     "duration": 0.025085,
     "end_time": "2023-06-28T14:05:36.366674",
     "exception": false,
     "start_time": "2023-06-28T14:05:36.341589",
     "status": "completed"
    },
    "tags": []
   },
   "outputs": [
    {
     "name": "stdout",
     "output_type": "stream",
     "text": [
      "season : 0\n",
      "team_name : 0\n",
      "player_name : 0\n",
      "nationality : 533\n",
      "type : 0\n",
      "price_paid(in rupee) : 0\n"
     ]
    }
   ],
   "source": [
    "for col in player_df:\n",
    "    print(col, \":\", player_df[col].isnull().sum())"
   ]
  },
  {
   "cell_type": "code",
   "execution_count": 42,
   "id": "06bdaae8",
   "metadata": {
    "execution": {
     "iopub.execute_input": "2023-06-28T14:05:36.393050Z",
     "iopub.status.busy": "2023-06-28T14:05:36.392690Z",
     "iopub.status.idle": "2023-06-28T14:05:36.398139Z",
     "shell.execute_reply": "2023-06-28T14:05:36.397338Z"
    },
    "papermill": {
     "duration": 0.020835,
     "end_time": "2023-06-28T14:05:36.399912",
     "exception": false,
     "start_time": "2023-06-28T14:05:36.379077",
     "status": "completed"
    },
    "tags": []
   },
   "outputs": [],
   "source": [
    "player_df.reset_index(inplace = True)"
   ]
  },
  {
   "cell_type": "code",
   "execution_count": 43,
   "id": "2cf11e9e",
   "metadata": {
    "execution": {
     "iopub.execute_input": "2023-06-28T14:05:36.426850Z",
     "iopub.status.busy": "2023-06-28T14:05:36.426215Z",
     "iopub.status.idle": "2023-06-28T14:05:36.431044Z",
     "shell.execute_reply": "2023-06-28T14:05:36.430408Z"
    },
    "papermill": {
     "duration": 0.019719,
     "end_time": "2023-06-28T14:05:36.432648",
     "exception": false,
     "start_time": "2023-06-28T14:05:36.412929",
     "status": "completed"
    },
    "tags": []
   },
   "outputs": [],
   "source": [
    "player_df.rename(columns = {'index':'id'}, inplace = True)"
   ]
  },
  {
   "cell_type": "code",
   "execution_count": 44,
   "id": "48fe9395",
   "metadata": {
    "execution": {
     "iopub.execute_input": "2023-06-28T14:05:36.457853Z",
     "iopub.status.busy": "2023-06-28T14:05:36.457300Z",
     "iopub.status.idle": "2023-06-28T14:05:36.469915Z",
     "shell.execute_reply": "2023-06-28T14:05:36.469149Z"
    },
    "papermill": {
     "duration": 0.027,
     "end_time": "2023-06-28T14:05:36.471536",
     "exception": false,
     "start_time": "2023-06-28T14:05:36.444536",
     "status": "completed"
    },
    "tags": []
   },
   "outputs": [
    {
     "data": {
      "text/html": [
       "<div>\n",
       "<style scoped>\n",
       "    .dataframe tbody tr th:only-of-type {\n",
       "        vertical-align: middle;\n",
       "    }\n",
       "\n",
       "    .dataframe tbody tr th {\n",
       "        vertical-align: top;\n",
       "    }\n",
       "\n",
       "    .dataframe thead th {\n",
       "        text-align: right;\n",
       "    }\n",
       "</style>\n",
       "<table border=\"1\" class=\"dataframe\">\n",
       "  <thead>\n",
       "    <tr style=\"text-align: right;\">\n",
       "      <th></th>\n",
       "      <th>id</th>\n",
       "      <th>season</th>\n",
       "      <th>team_name</th>\n",
       "      <th>player_name</th>\n",
       "      <th>nationality</th>\n",
       "      <th>type</th>\n",
       "      <th>price_paid(in rupee)</th>\n",
       "    </tr>\n",
       "  </thead>\n",
       "  <tbody>\n",
       "    <tr>\n",
       "      <th>0</th>\n",
       "      <td>1</td>\n",
       "      <td>2023</td>\n",
       "      <td>Chennai Super Kings</td>\n",
       "      <td>Ajinkya Rahane</td>\n",
       "      <td>Indian</td>\n",
       "      <td>Batsman</td>\n",
       "      <td>5000000.0</td>\n",
       "    </tr>\n",
       "    <tr>\n",
       "      <th>1</th>\n",
       "      <td>2</td>\n",
       "      <td>2023</td>\n",
       "      <td>Chennai Super Kings</td>\n",
       "      <td>Bhagath Varma</td>\n",
       "      <td>Indian</td>\n",
       "      <td>All-Rounder</td>\n",
       "      <td>2000000.0</td>\n",
       "    </tr>\n",
       "    <tr>\n",
       "      <th>2</th>\n",
       "      <td>3</td>\n",
       "      <td>2023</td>\n",
       "      <td>Chennai Super Kings</td>\n",
       "      <td>Kyle Jamieson</td>\n",
       "      <td>Overseas</td>\n",
       "      <td>Bowler</td>\n",
       "      <td>10000000.0</td>\n",
       "    </tr>\n",
       "    <tr>\n",
       "      <th>3</th>\n",
       "      <td>4</td>\n",
       "      <td>2023</td>\n",
       "      <td>Chennai Super Kings</td>\n",
       "      <td>Ajay Mandal</td>\n",
       "      <td>Indian</td>\n",
       "      <td>All-Rounder</td>\n",
       "      <td>2000000.0</td>\n",
       "    </tr>\n",
       "    <tr>\n",
       "      <th>4</th>\n",
       "      <td>5</td>\n",
       "      <td>2023</td>\n",
       "      <td>Chennai Super Kings</td>\n",
       "      <td>Nishant Sindhu</td>\n",
       "      <td>Indian</td>\n",
       "      <td>All-Rounder</td>\n",
       "      <td>6000000.0</td>\n",
       "    </tr>\n",
       "    <tr>\n",
       "      <th>...</th>\n",
       "      <td>...</td>\n",
       "      <td>...</td>\n",
       "      <td>...</td>\n",
       "      <td>...</td>\n",
       "      <td>...</td>\n",
       "      <td>...</td>\n",
       "      <td>...</td>\n",
       "    </tr>\n",
       "    <tr>\n",
       "      <th>1045</th>\n",
       "      <td>1046</td>\n",
       "      <td>2013</td>\n",
       "      <td>Sunrisers Hyderabad</td>\n",
       "      <td>Darren Sammy</td>\n",
       "      <td>NaN</td>\n",
       "      <td>All-Rounder</td>\n",
       "      <td>24883792.5</td>\n",
       "    </tr>\n",
       "    <tr>\n",
       "      <th>1046</th>\n",
       "      <td>1047</td>\n",
       "      <td>2013</td>\n",
       "      <td>Sunrisers Hyderabad</td>\n",
       "      <td>Sudeep Tyagi</td>\n",
       "      <td>NaN</td>\n",
       "      <td>Bowler</td>\n",
       "      <td>5855010.0</td>\n",
       "    </tr>\n",
       "    <tr>\n",
       "      <th>1047</th>\n",
       "      <td>1048</td>\n",
       "      <td>2013</td>\n",
       "      <td>Sunrisers Hyderabad</td>\n",
       "      <td>Clinton McKay</td>\n",
       "      <td>NaN</td>\n",
       "      <td>Bowler</td>\n",
       "      <td>5855010.0</td>\n",
       "    </tr>\n",
       "    <tr>\n",
       "      <th>1048</th>\n",
       "      <td>1049</td>\n",
       "      <td>2013</td>\n",
       "      <td>Sunrisers Hyderabad</td>\n",
       "      <td>Nathan McCullum</td>\n",
       "      <td>NaN</td>\n",
       "      <td>Bowler</td>\n",
       "      <td>5855010.0</td>\n",
       "    </tr>\n",
       "    <tr>\n",
       "      <th>1049</th>\n",
       "      <td>1050</td>\n",
       "      <td>2013</td>\n",
       "      <td>Sunrisers Hyderabad</td>\n",
       "      <td>Quinton De Kock</td>\n",
       "      <td>Overseas</td>\n",
       "      <td>Wicket-Keeper</td>\n",
       "      <td>1171002.0</td>\n",
       "    </tr>\n",
       "  </tbody>\n",
       "</table>\n",
       "<p>1050 rows × 7 columns</p>\n",
       "</div>"
      ],
      "text/plain": [
       "        id season            team_name      player_name nationality  \\\n",
       "0        1   2023  Chennai Super Kings   Ajinkya Rahane      Indian   \n",
       "1        2   2023  Chennai Super Kings    Bhagath Varma      Indian   \n",
       "2        3   2023  Chennai Super Kings    Kyle Jamieson    Overseas   \n",
       "3        4   2023  Chennai Super Kings      Ajay Mandal      Indian   \n",
       "4        5   2023  Chennai Super Kings   Nishant Sindhu      Indian   \n",
       "...    ...    ...                  ...              ...         ...   \n",
       "1045  1046   2013  Sunrisers Hyderabad     Darren Sammy         NaN   \n",
       "1046  1047   2013  Sunrisers Hyderabad     Sudeep Tyagi         NaN   \n",
       "1047  1048   2013  Sunrisers Hyderabad    Clinton McKay         NaN   \n",
       "1048  1049   2013  Sunrisers Hyderabad  Nathan McCullum         NaN   \n",
       "1049  1050   2013  Sunrisers Hyderabad  Quinton De Kock    Overseas   \n",
       "\n",
       "               type  price_paid(in rupee)  \n",
       "0           Batsman             5000000.0  \n",
       "1       All-Rounder             2000000.0  \n",
       "2            Bowler            10000000.0  \n",
       "3       All-Rounder             2000000.0  \n",
       "4       All-Rounder             6000000.0  \n",
       "...             ...                   ...  \n",
       "1045    All-Rounder            24883792.5  \n",
       "1046         Bowler             5855010.0  \n",
       "1047         Bowler             5855010.0  \n",
       "1048         Bowler             5855010.0  \n",
       "1049  Wicket-Keeper             1171002.0  \n",
       "\n",
       "[1050 rows x 7 columns]"
      ]
     },
     "execution_count": 44,
     "metadata": {},
     "output_type": "execute_result"
    }
   ],
   "source": [
    "player_df"
   ]
  },
  {
   "cell_type": "code",
   "execution_count": 45,
   "id": "17084f51",
   "metadata": {
    "execution": {
     "iopub.execute_input": "2023-06-28T14:05:36.498000Z",
     "iopub.status.busy": "2023-06-28T14:05:36.497424Z",
     "iopub.status.idle": "2023-06-28T14:05:37.030830Z",
     "shell.execute_reply": "2023-06-28T14:05:37.029300Z"
    },
    "papermill": {
     "duration": 0.549179,
     "end_time": "2023-06-28T14:05:37.033369",
     "exception": false,
     "start_time": "2023-06-28T14:05:36.484190",
     "status": "completed"
    },
    "tags": []
   },
   "outputs": [
    {
     "name": "stdout",
     "output_type": "stream",
     "text": [
      "id                        int64\n",
      "season                   object\n",
      "team_name                object\n",
      "player_name              object\n",
      "nationality              object\n",
      "type                     object\n",
      "price_paid(in rupee)    float64\n",
      "dtype: object\n"
     ]
    }
   ],
   "source": [
    "team_df.season = team_df.season.astype('str')\n",
    "player_df.season = player_df.season.astype('str')\n",
    "\n",
    "\n",
    "df_team = team_df.loc[:,['id','season','team_name']].copy()\n",
    "\n",
    "# print(df)\n",
    "\n",
    "df_dict = df_team.set_index('id').T.to_dict('list')\n",
    "\n",
    "# print(df_dict)\n",
    "\n",
    "for i,row in player_df.iterrows():\n",
    "    for k in df_dict:\n",
    "        if (df_dict[k][0] == row.season) and (df_dict[k][1] == row.team_name):\n",
    "            player_df.loc[i, 'id'] = k\n",
    "            break\n",
    "\n",
    "print(player_df.dtypes)"
   ]
  },
  {
   "cell_type": "code",
   "execution_count": 46,
   "id": "18ab0945",
   "metadata": {
    "execution": {
     "iopub.execute_input": "2023-06-28T14:05:37.059782Z",
     "iopub.status.busy": "2023-06-28T14:05:37.059419Z",
     "iopub.status.idle": "2023-06-28T14:05:37.072456Z",
     "shell.execute_reply": "2023-06-28T14:05:37.071841Z"
    },
    "papermill": {
     "duration": 0.028013,
     "end_time": "2023-06-28T14:05:37.074005",
     "exception": false,
     "start_time": "2023-06-28T14:05:37.045992",
     "status": "completed"
    },
    "tags": []
   },
   "outputs": [
    {
     "data": {
      "text/html": [
       "<div>\n",
       "<style scoped>\n",
       "    .dataframe tbody tr th:only-of-type {\n",
       "        vertical-align: middle;\n",
       "    }\n",
       "\n",
       "    .dataframe tbody tr th {\n",
       "        vertical-align: top;\n",
       "    }\n",
       "\n",
       "    .dataframe thead th {\n",
       "        text-align: right;\n",
       "    }\n",
       "</style>\n",
       "<table border=\"1\" class=\"dataframe\">\n",
       "  <thead>\n",
       "    <tr style=\"text-align: right;\">\n",
       "      <th></th>\n",
       "      <th>id</th>\n",
       "      <th>season</th>\n",
       "      <th>team_name</th>\n",
       "      <th>player_name</th>\n",
       "      <th>nationality</th>\n",
       "      <th>type</th>\n",
       "      <th>price_paid(in rupee)</th>\n",
       "    </tr>\n",
       "  </thead>\n",
       "  <tbody>\n",
       "    <tr>\n",
       "      <th>0</th>\n",
       "      <td>1</td>\n",
       "      <td>2023</td>\n",
       "      <td>Chennai Super Kings</td>\n",
       "      <td>Ajinkya Rahane</td>\n",
       "      <td>Indian</td>\n",
       "      <td>Batsman</td>\n",
       "      <td>5000000.0</td>\n",
       "    </tr>\n",
       "    <tr>\n",
       "      <th>1</th>\n",
       "      <td>1</td>\n",
       "      <td>2023</td>\n",
       "      <td>Chennai Super Kings</td>\n",
       "      <td>Bhagath Varma</td>\n",
       "      <td>Indian</td>\n",
       "      <td>All-Rounder</td>\n",
       "      <td>2000000.0</td>\n",
       "    </tr>\n",
       "    <tr>\n",
       "      <th>2</th>\n",
       "      <td>1</td>\n",
       "      <td>2023</td>\n",
       "      <td>Chennai Super Kings</td>\n",
       "      <td>Kyle Jamieson</td>\n",
       "      <td>Overseas</td>\n",
       "      <td>Bowler</td>\n",
       "      <td>10000000.0</td>\n",
       "    </tr>\n",
       "    <tr>\n",
       "      <th>3</th>\n",
       "      <td>1</td>\n",
       "      <td>2023</td>\n",
       "      <td>Chennai Super Kings</td>\n",
       "      <td>Ajay Mandal</td>\n",
       "      <td>Indian</td>\n",
       "      <td>All-Rounder</td>\n",
       "      <td>2000000.0</td>\n",
       "    </tr>\n",
       "    <tr>\n",
       "      <th>4</th>\n",
       "      <td>1</td>\n",
       "      <td>2023</td>\n",
       "      <td>Chennai Super Kings</td>\n",
       "      <td>Nishant Sindhu</td>\n",
       "      <td>Indian</td>\n",
       "      <td>All-Rounder</td>\n",
       "      <td>6000000.0</td>\n",
       "    </tr>\n",
       "    <tr>\n",
       "      <th>...</th>\n",
       "      <td>...</td>\n",
       "      <td>...</td>\n",
       "      <td>...</td>\n",
       "      <td>...</td>\n",
       "      <td>...</td>\n",
       "      <td>...</td>\n",
       "      <td>...</td>\n",
       "    </tr>\n",
       "    <tr>\n",
       "      <th>1045</th>\n",
       "      <td>93</td>\n",
       "      <td>2013</td>\n",
       "      <td>Sunrisers Hyderabad</td>\n",
       "      <td>Darren Sammy</td>\n",
       "      <td>NaN</td>\n",
       "      <td>All-Rounder</td>\n",
       "      <td>24883792.5</td>\n",
       "    </tr>\n",
       "    <tr>\n",
       "      <th>1046</th>\n",
       "      <td>93</td>\n",
       "      <td>2013</td>\n",
       "      <td>Sunrisers Hyderabad</td>\n",
       "      <td>Sudeep Tyagi</td>\n",
       "      <td>NaN</td>\n",
       "      <td>Bowler</td>\n",
       "      <td>5855010.0</td>\n",
       "    </tr>\n",
       "    <tr>\n",
       "      <th>1047</th>\n",
       "      <td>93</td>\n",
       "      <td>2013</td>\n",
       "      <td>Sunrisers Hyderabad</td>\n",
       "      <td>Clinton McKay</td>\n",
       "      <td>NaN</td>\n",
       "      <td>Bowler</td>\n",
       "      <td>5855010.0</td>\n",
       "    </tr>\n",
       "    <tr>\n",
       "      <th>1048</th>\n",
       "      <td>93</td>\n",
       "      <td>2013</td>\n",
       "      <td>Sunrisers Hyderabad</td>\n",
       "      <td>Nathan McCullum</td>\n",
       "      <td>NaN</td>\n",
       "      <td>Bowler</td>\n",
       "      <td>5855010.0</td>\n",
       "    </tr>\n",
       "    <tr>\n",
       "      <th>1049</th>\n",
       "      <td>93</td>\n",
       "      <td>2013</td>\n",
       "      <td>Sunrisers Hyderabad</td>\n",
       "      <td>Quinton De Kock</td>\n",
       "      <td>Overseas</td>\n",
       "      <td>Wicket-Keeper</td>\n",
       "      <td>1171002.0</td>\n",
       "    </tr>\n",
       "  </tbody>\n",
       "</table>\n",
       "<p>1050 rows × 7 columns</p>\n",
       "</div>"
      ],
      "text/plain": [
       "      id season            team_name      player_name nationality  \\\n",
       "0      1   2023  Chennai Super Kings   Ajinkya Rahane      Indian   \n",
       "1      1   2023  Chennai Super Kings    Bhagath Varma      Indian   \n",
       "2      1   2023  Chennai Super Kings    Kyle Jamieson    Overseas   \n",
       "3      1   2023  Chennai Super Kings      Ajay Mandal      Indian   \n",
       "4      1   2023  Chennai Super Kings   Nishant Sindhu      Indian   \n",
       "...   ..    ...                  ...              ...         ...   \n",
       "1045  93   2013  Sunrisers Hyderabad     Darren Sammy         NaN   \n",
       "1046  93   2013  Sunrisers Hyderabad     Sudeep Tyagi         NaN   \n",
       "1047  93   2013  Sunrisers Hyderabad    Clinton McKay         NaN   \n",
       "1048  93   2013  Sunrisers Hyderabad  Nathan McCullum         NaN   \n",
       "1049  93   2013  Sunrisers Hyderabad  Quinton De Kock    Overseas   \n",
       "\n",
       "               type  price_paid(in rupee)  \n",
       "0           Batsman             5000000.0  \n",
       "1       All-Rounder             2000000.0  \n",
       "2            Bowler            10000000.0  \n",
       "3       All-Rounder             2000000.0  \n",
       "4       All-Rounder             6000000.0  \n",
       "...             ...                   ...  \n",
       "1045    All-Rounder            24883792.5  \n",
       "1046         Bowler             5855010.0  \n",
       "1047         Bowler             5855010.0  \n",
       "1048         Bowler             5855010.0  \n",
       "1049  Wicket-Keeper             1171002.0  \n",
       "\n",
       "[1050 rows x 7 columns]"
      ]
     },
     "execution_count": 46,
     "metadata": {},
     "output_type": "execute_result"
    }
   ],
   "source": [
    "player_df"
   ]
  },
  {
   "cell_type": "code",
   "execution_count": 47,
   "id": "e11dcf8f",
   "metadata": {
    "execution": {
     "iopub.execute_input": "2023-06-28T14:05:37.100067Z",
     "iopub.status.busy": "2023-06-28T14:05:37.099702Z",
     "iopub.status.idle": "2023-06-28T14:05:37.108170Z",
     "shell.execute_reply": "2023-06-28T14:05:37.107586Z"
    },
    "papermill": {
     "duration": 0.023748,
     "end_time": "2023-06-28T14:05:37.110156",
     "exception": false,
     "start_time": "2023-06-28T14:05:37.086408",
     "status": "completed"
    },
    "tags": []
   },
   "outputs": [],
   "source": [
    "player_df.to_csv('ipl_player_13-23.csv', index = False)"
   ]
  },
  {
   "cell_type": "code",
   "execution_count": null,
   "id": "40702fb7",
   "metadata": {
    "papermill": {
     "duration": 0.012498,
     "end_time": "2023-06-28T14:05:37.136065",
     "exception": false,
     "start_time": "2023-06-28T14:05:37.123567",
     "status": "completed"
    },
    "tags": []
   },
   "outputs": [],
   "source": []
  }
 ],
 "metadata": {
  "kernelspec": {
   "display_name": "Python 3",
   "language": "python",
   "name": "python3"
  },
  "language_info": {
   "codemirror_mode": {
    "name": "ipython",
    "version": 3
   },
   "file_extension": ".py",
   "mimetype": "text/x-python",
   "name": "python",
   "nbconvert_exporter": "python",
   "pygments_lexer": "ipython3",
   "version": "3.10.10"
  },
  "papermill": {
   "default_parameters": {},
   "duration": 15.001401,
   "end_time": "2023-06-28T14:05:37.868233",
   "environment_variables": {},
   "exception": null,
   "input_path": "__notebook__.ipynb",
   "output_path": "__notebook__.ipynb",
   "parameters": {},
   "start_time": "2023-06-28T14:05:22.866832",
   "version": "2.4.0"
  }
 },
 "nbformat": 4,
 "nbformat_minor": 5
}
